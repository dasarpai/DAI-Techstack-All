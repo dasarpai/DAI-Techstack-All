{
 "cells": [
  {
   "cell_type": "code",
   "execution_count": 3,
   "metadata": {},
   "outputs": [
    {
     "data": {
      "text/plain": [
       "12"
      ]
     },
     "execution_count": 3,
     "metadata": {},
     "output_type": "execute_result"
    }
   ],
   "source": [
    "import functools\n",
    "def add(a, b):\n",
    "    return a + b\n",
    "\n",
    "def sub(a,b):\n",
    "    return a - b\n",
    "\n",
    "params = {'a': 10, 'b': 2}\n",
    "\n",
    "names_to_functions1 = {\n",
    "    'add': functools.partial(add, **params),\n",
    "    'sub': functools.partial(sub, **params),\n",
    "}\n",
    "\n",
    "call_this = 'add'\n",
    "names_to_functions1[call_this]()"
   ]
  }
 ],
 "metadata": {
  "kernelspec": {
   "display_name": "Python 3",
   "language": "python",
   "name": "python3"
  },
  "language_info": {
   "codemirror_mode": {
    "name": "ipython",
    "version": 3
   },
   "file_extension": ".py",
   "mimetype": "text/x-python",
   "name": "python",
   "nbconvert_exporter": "python",
   "pygments_lexer": "ipython3",
   "version": "3.12.4"
  }
 },
 "nbformat": 4,
 "nbformat_minor": 2
}
