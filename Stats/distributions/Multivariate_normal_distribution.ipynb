{
 "cells": [
  {
   "cell_type": "code",
   "execution_count": 2,
   "id": "4aa793a9",
   "metadata": {},
   "outputs": [],
   "source": [
    "# importing dependencies\n",
    "import numpy as np\n",
    "import pandas as pd\n",
    "import matplotlib.pyplot as plt\n",
    "import sys"
   ]
  },
  {
   "cell_type": "code",
   "execution_count": 11,
   "id": "5bc4c2e3",
   "metadata": {},
   "outputs": [],
   "source": [
    "# creating data\n",
    "mean_01 = np.array([0.0, 0.0])\n",
    "cov_01 = np.array([[1, 0.3], [0.3, 1]])\n",
    "dist_01 = np.random.multivariate_normal(mean_01, cov_01, 100)\n",
    "  \n",
    "mean_02 = np.array([6.0, 7.0])\n",
    "cov_02 = np.array([[1.5, 0.3], [0.3, 1]])\n",
    "dist_02 = np.random.multivariate_normal(mean_02, cov_02, 100)\n",
    "\n",
    "mean_03 = np.array([7.0, -5.0])\n",
    "cov_03 = np.array([[1.2, 0.5], [0.5, 1.3]])\n",
    "dist_03 = np.random.multivariate_normal(mean_03, cov_01, 100)\n",
    "  \n",
    "mean_04 = np.array([2.0, -7.0])\n",
    "cov_04 = np.array([[1.2, 0.5], [0.5, 1.3]])\n",
    "dist_04 = np.random.multivariate_normal(mean_04, cov_01, 100)\n",
    "  \n",
    "data = np.vstack((dist_01, dist_02, dist_03, dist_04))\n",
    "np.random.shuffle(data)"
   ]
  },
  {
   "cell_type": "code",
   "execution_count": 12,
   "id": "10eaf8fe",
   "metadata": {},
   "outputs": [
    {
     "data": {
      "text/plain": [
       "(400, 2)"
      ]
     },
     "execution_count": 12,
     "metadata": {},
     "output_type": "execute_result"
    }
   ],
   "source": [
    "data.shape"
   ]
  },
  {
   "cell_type": "code",
   "execution_count": 13,
   "id": "0e61a48f",
   "metadata": {},
   "outputs": [
    {
     "name": "stderr",
     "output_type": "stream",
     "text": [
      "<ipython-input-13-28658fdcc8a6>:4: RuntimeWarning: covariance is not positive-semidefinite.\n",
      "  dist_01 = np.random.multivariate_normal(mean_01, cov_01, 100)\n",
      "<ipython-input-13-28658fdcc8a6>:8: RuntimeWarning: covariance is not positive-semidefinite.\n",
      "  dist_02 = np.random.multivariate_normal(mean_02, cov_02, 100)\n",
      "<ipython-input-13-28658fdcc8a6>:12: RuntimeWarning: covariance is not positive-semidefinite.\n",
      "  dist_03 = np.random.multivariate_normal(mean_03, cov_01, 100)\n"
     ]
    }
   ],
   "source": [
    "# creating data\n",
    "mean_01 = np.array([0.0, 0.0, 0.0])\n",
    "cov_01 = np.array([[1, 0.3, 0.4], [0.3, 1,0.4], [0.2,0.3,1]])\n",
    "dist_01 = np.random.multivariate_normal(mean_01, cov_01, 100)\n",
    "  \n",
    "mean_02 = np.array([6.0, 7.0, 8.0])\n",
    "cov_02 = np.array([[1.5, 0.3, 1.2], [0.3, 1, 1.3],[0.1,0.2,0.8]])\n",
    "dist_02 = np.random.multivariate_normal(mean_02, cov_02, 100)\n",
    "\n",
    "mean_03 = np.array([7.0, -5.0, -2.0])\n",
    "cov_03 = np.array([[1.2, 0.5, 1.3], [0.5, 1.3, -0.7],[0.3, 0.6, 1.2]])\n",
    "dist_03 = np.random.multivariate_normal(mean_03, cov_01, 100)\n",
    " \n",
    "data = np.vstack((dist_01, dist_02, dist_03))\n",
    "np.random.shuffle(data)"
   ]
  },
  {
   "cell_type": "code",
   "execution_count": 15,
   "id": "90efb6f3",
   "metadata": {},
   "outputs": [
    {
     "data": {
      "text/plain": [
       "(300, 3)"
      ]
     },
     "execution_count": 15,
     "metadata": {},
     "output_type": "execute_result"
    }
   ],
   "source": [
    "data.shape"
   ]
  },
  {
   "cell_type": "code",
   "execution_count": 16,
   "id": "fd5ae951",
   "metadata": {},
   "outputs": [],
   "source": [
    "import seaborn as sns"
   ]
  },
  {
   "cell_type": "code",
   "execution_count": 17,
   "id": "9f206167",
   "metadata": {},
   "outputs": [],
   "source": [
    "import matplotlib.pyplot as plt"
   ]
  },
  {
   "cell_type": "code",
   "execution_count": 25,
   "id": "e6dfc824",
   "metadata": {},
   "outputs": [
    {
     "data": {
      "text/plain": [
       "<AxesSubplot:ylabel='Count'>"
      ]
     },
     "execution_count": 25,
     "metadata": {},
     "output_type": "execute_result"
    },
    {
     "data": {
      "image/png": "[encoded data removed]",
      "text/plain": [
       "<Figure size 432x288 with 1 Axes>"
      ]
     },
     "metadata": {
      "needs_background": "light"
     },
     "output_type": "display_data"
    }
   ],
   "source": [
    "sns.histplot(data[0])"
   ]
  },
  {
   "cell_type": "code",
   "execution_count": null,
   "id": "ca839df9",
   "metadata": {},
   "outputs": [],
   "source": []
  }
 ],
 "metadata": {
  "kernelspec": {
   "display_name": "Python 3",
   "language": "python",
   "name": "python3"
  },
  "language_info": {
   "codemirror_mode": {
    "name": "ipython",
    "version": 3
   },
   "file_extension": ".py",
   "mimetype": "text/x-python",
   "name": "python",
   "nbconvert_exporter": "python",
   "pygments_lexer": "ipython3",
   "version": "3.8.8"
  }
 },
 "nbformat": 4,
 "nbformat_minor": 5
}
