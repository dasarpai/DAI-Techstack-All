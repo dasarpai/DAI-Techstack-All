{
 "cells": [
  {
   "cell_type": "code",
   "execution_count": 20,
   "metadata": {},
   "outputs": [
    {
     "name": "stdout",
     "output_type": "stream",
     "text": [
      "Sending request to http://localhost:5000/api/generate\n",
      "Response Status Code: 200\n"
     ]
    }
   ],
   "source": [
    "import requests\n",
    "\n",
    "def get_response():\n",
    "    url = \"http://localhost:5000/api/generate\"  # Update the URL to use port 5000\n",
    "    headers = {\n",
    "        \"Content-Type\": \"application/json\"\n",
    "    }\n",
    "    data = {\n",
    "        \"prompt\": \"What is AI?\"\n",
    "    }\n",
    "\n",
    "    try:\n",
    "        print(f\"Sending request to {url}\")\n",
    "        # Use POST method instead of GET\n",
    "        response = requests.post(url, headers=headers, json=data)\n",
    "        response.raise_for_status()  # Raises an HTTPError for bad responses\n",
    "        print(\"Response Status Code:\", response.status_code)\n",
    "        # print(\"Response Body:\", response.text)\n",
    "        return response.json()\n",
    "    except requests.exceptions.RequestException as e:\n",
    "        import traceback\n",
    "        print(\"An error occurred:\")\n",
    "        traceback.print_exc()\n",
    "\n",
    "\n",
    "answer =   get_response()\n",
    "display(Markdown(answer['response']))"
   ]
  },
  {
   "cell_type": "code",
   "execution_count": 23,
   "metadata": {},
   "outputs": [
    {
     "data": {
      "text/markdown": [
       "AI stands for Artificial Intelligence. It refers to the development of computer systems or software that can perform tasks that typically require human intelligence, such as recognizing speech, translating languages, solving complex problems, and even creating new knowledge. There are two main branches in AI - weak AI (narrow/weak AI) and strong AI (general/strong AI). Weak AI focuses on specific tasks like facial recognition while general AI aims to create machines with human-level intelligence that can perform any intellectual task a human being can do."
      ],
      "text/plain": [
       "<IPython.core.display.Markdown object>"
      ]
     },
     "metadata": {},
     "output_type": "display_data"
    }
   ],
   "source": [
    "from IPython.display import display, Markdown\n",
    "\n",
    "# Display the Markdown-formatted response\n",
    "display(Markdown(answer['response']))"
   ]
  },
  {
   "cell_type": "code",
   "execution_count": 7,
   "metadata": {},
   "outputs": [
    {
     "data": {
      "text/plain": [
       "<Response [200]>"
      ]
     },
     "execution_count": 7,
     "metadata": {},
     "output_type": "execute_result"
    }
   ],
   "source": [
    "response"
   ]
  },
  {
   "cell_type": "code",
   "execution_count": null,
   "metadata": {},
   "outputs": [],
   "source": [
    "# Check if the request was successful\n",
    "if response.status_code == 200:\n",
    "    result = response.json().get(\"result\")\n",
    "    print(1, response)\n",
    "else:\n",
    "    print(f\"Error: {response.status_code}\")\n",
    "    print(2, response.text)"
   ]
  }
 ],
 "metadata": {
  "kernelspec": {
   "display_name": "Python 3",
   "language": "python",
   "name": "python3"
  },
  "language_info": {
   "codemirror_mode": {
    "name": "ipython",
    "version": 3
   },
   "file_extension": ".py",
   "mimetype": "text/x-python",
   "name": "python",
   "nbconvert_exporter": "python",
   "pygments_lexer": "ipython3",
   "version": "3.12.4"
  }
 },
 "nbformat": 4,
 "nbformat_minor": 2
}
