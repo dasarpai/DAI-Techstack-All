{
 "cells": [
  {
   "cell_type": "markdown",
   "id": "deaf3084-ab68-4a2b-b60b-107d615221f9",
   "metadata": {},
   "source": [
    "## Groq Cloud and LLM"
   ]
  },
  {
   "cell_type": "code",
   "execution_count": 3,
   "id": "89a3af22-06d3-4b3b-9972-8813fe774fb1",
   "metadata": {},
   "outputs": [],
   "source": [
    "import os \n",
    "groq_api_key = os.environ.get(\"GROQ_API_KEY\")"
   ]
  },
  {
   "cell_type": "code",
   "execution_count": 4,
   "id": "c3a78f87-8325-4df5-8785-6b2d3d6c9b20",
   "metadata": {},
   "outputs": [],
   "source": [
    "# !pip install --upgrade notebook\n"
   ]
  },
  {
   "cell_type": "code",
   "execution_count": 5,
   "id": "f10c8ee7-0d89-486a-b68c-2b8506f93bd1",
   "metadata": {},
   "outputs": [],
   "source": [
    "# !pip list"
   ]
  },
  {
   "cell_type": "code",
   "execution_count": 6,
   "id": "bab37a94-02a8-42d7-a3e4-60c04c5d8509",
   "metadata": {},
   "outputs": [],
   "source": [
    "# !pip install jupyter_contrib_nbextensions\n",
    "# !jupyter contrib nbextension install --user\n"
   ]
  },
  {
   "cell_type": "code",
   "execution_count": 7,
   "id": "09321760-64e9-4967-a9ba-602d0155b257",
   "metadata": {},
   "outputs": [],
   "source": [
    "from langchain_groq import ChatGroq\n",
    "llm = ChatGroq(groq_api_key= groq_api_key, model_name = \"llama3-70b-8192\")"
   ]
  },
  {
   "cell_type": "code",
   "execution_count": 8,
   "id": "f32645d4-d35b-493d-8549-9c3fda37ee8b",
   "metadata": {},
   "outputs": [],
   "source": [
    "response = llm.invoke(\"The first person who invented gravity\")"
   ]
  },
  {
   "cell_type": "code",
   "execution_count": 9,
   "id": "12a46ec8-acb6-4510-aef4-88f73f31da04",
   "metadata": {},
   "outputs": [
    {
     "name": "stdout",
     "output_type": "stream",
     "text": [
      "I think there may be a bit of confusion here!\n",
      "\n",
      "Gravity is a fundamental force of nature that exists in the universe, and it wasn't invented by a person. Gravity is a universal force that causes objects with mass to attract each other, and it's been present since the beginning of time.\n",
      "\n",
      "In other words, gravity is not something that was created or invented by a human being. It's a natural phenomenon that has always existed, and it's what keeps us and everything else on this planet stuck to the ground and moving around in the way that we do.\n",
      "\n",
      "What humans have done, however, is to study, understand, and describe gravity through scientific laws and theories. One of the most famous scientists who contributed to our understanding of gravity is Sir Isaac Newton, who formulated the law of universal gravitation in the late 17th century. Newton's law describes how gravity works and how objects move under its influence.\n",
      "\n",
      "Later, Albert Einstein developed the theory of general relativity, which further refined our understanding of gravity and its effects on space and time.\n",
      "\n",
      "So, to summarize, there isn't a \"first person who invented gravity\" because gravity is a natural force that has always existed. What we have are scientists who have worked to understand and describe gravity through scientific laws and theories!\n"
     ]
    }
   ],
   "source": [
    "print(response.content)"
   ]
  },
  {
   "cell_type": "code",
   "execution_count": 10,
   "id": "e9d8243a-d018-4b23-8844-59fd59d01f33",
   "metadata": {},
   "outputs": [],
   "source": [
    "from IPython.display import Markdown, display"
   ]
  },
  {
   "cell_type": "code",
   "execution_count": 11,
   "id": "e3f00dd3-ee80-4900-8321-7ea664e8cde2",
   "metadata": {},
   "outputs": [],
   "source": [
    "from IPython.display import Markdown, display"
   ]
  },
  {
   "cell_type": "code",
   "execution_count": 12,
   "id": "05107d3e-77b3-449f-b646-debc9fe38df3",
   "metadata": {},
   "outputs": [],
   "source": [
    "import os\n",
    "\n",
    "from groq import Groq\n",
    "\n",
    "client = Groq(\n",
    "    api_key=os.environ.get(\"GROQ_API_KEY\"),\n",
    ")\n",
    "\n",
    "chat_completion = client.chat.completions.create(\n",
    "    messages=[\n",
    "        {\n",
    "            \"role\": \"user\",\n",
    "            \"content\": \"Explain the importance of fast language models\",\n",
    "        }\n",
    "    ],\n",
    "    model=\"llama3-8b-8192\",\n",
    ")\n",
    "\n",
    "result = chat_completion.choices[0].message.content"
   ]
  },
  {
   "cell_type": "code",
   "execution_count": 13,
   "id": "28fce9fe-1e60-4c05-b784-6849fc6ac3f2",
   "metadata": {},
   "outputs": [
    {
     "data": {
      "text/markdown": [
       "Fast language models have gained significant attention in recent years due to their ability to process and generate human-like language quickly and efficiently. The importance of fast language models lies in their potential to transform various industries and applications. Here are some reasons why fast language models are crucial:\n",
       "\n",
       "1. **Natural Language Processing (NLP)**: Fast language models enable faster processing of large amounts of text data, making it possible to develop more accurate and sophisticated NLP systems. This is especially important for applications like sentiment analysis, text classification, and language translation.\n",
       "2. **Chatbots and Virtual Assistants**: Fast language models enable chatbots and virtual assistants to respond more quickly and accurately, leading to improved customer experience and increased efficiency.\n",
       "3. **Language Translation**: Fast language models can facilitate real-time language translation, revolutionizing the way people communicate across languages. This is particularly important for global enterprises and international communication.\n",
       "4. **Text Summarization**: Fast language models can quickly summarize large documents, news articles, and social media posts, helping users stay informed and reducing the time spent on reading and processing information.\n",
       "5. **Context-Aware Sentiment Analysis**: Fast language models can analyze large volumes of sentiment data and provide insights in real-time, allowing businesses to respond quickly to customer feedback and sentiment changes.\n",
       "6. **Generative Writing**: Fast language models can generate text quickly, enabling applications like content generation, data augmentation, and topic modeling.\n",
       "7. **Improved User Experience**: Fast language models can enable features like auto-complete, predictive text, and quick responses in messaging apps, social media, and other platforms, improving the overall user experience.\n",
       "8. **Time-Sensitive Applications**: Fast language models are critical for time-sensitive applications like crisis communication, emergency response, and social media monitoring, where quick response times can make a significant difference.\n",
       "9. **Business Decision-Making**: Fast language models can provide insights and predictions in real-time, enabling businesses to make data-driven decisions faster and more accurately.\n",
       "10. **Research and Development**: Fast language models can accelerate research in NLP, machine learning, and AI, driving innovation and breakthroughs in these fields.\n",
       "\n",
       "In summary, fast language models have the potential to transform various industries and applications by enabling faster, more accurate, and more efficient processing and generation of human language. Their importance stems from the many benefits they can bring, including improved user experience, faster decision-making, and more accurate insights."
      ],
      "text/plain": [
       "<IPython.core.display.Markdown object>"
      ]
     },
     "metadata": {},
     "output_type": "display_data"
    }
   ],
   "source": [
    "display( Markdown(result) )"
   ]
  },
  {
   "cell_type": "markdown",
   "id": "481f252a-e433-4e78-b2ca-5db85c4c8a43",
   "metadata": {},
   "source": [
    "## ChromaDB"
   ]
  },
  {
   "cell_type": "code",
   "execution_count": 14,
   "id": "7e12da85-4405-43a8-94e1-f4967f7935a9",
   "metadata": {},
   "outputs": [],
   "source": [
    "import chromadb\n",
    "from chromadb.config import Settings "
   ]
  },
  {
   "cell_type": "code",
   "execution_count": 33,
   "id": "4658c1d7-f378-4e33-a251-88c5232479d2",
   "metadata": {},
   "outputs": [],
   "source": [
    "client = chromadb.PersistentClient(path=\"chroma_db\")"
   ]
  },
  {
   "cell_type": "code",
   "execution_count": 17,
   "id": "b87d2842-eef6-479b-9e65-aff6a94b83e9",
   "metadata": {},
   "outputs": [],
   "source": [
    "# collection = client.create_collection(\"My_Department_Docs\")"
   ]
  },
  {
   "cell_type": "code",
   "execution_count": 18,
   "id": "04ea9d69-ab91-4dac-9a1e-03cb1260737a",
   "metadata": {},
   "outputs": [],
   "source": [
    "collection = client.get_collection(\"My_Department_Docs\")"
   ]
  },
  {
   "cell_type": "code",
   "execution_count": 19,
   "id": "3763c211-9411-4037-97f2-2b3b9912c774",
   "metadata": {},
   "outputs": [
    {
     "name": "stderr",
     "output_type": "stream",
     "text": [
      "Add of existing embedding ID: id1\n",
      "Add of existing embedding ID: id2\n",
      "Add of existing embedding ID: id3\n",
      "Add of existing embedding ID: id1\n",
      "Add of existing embedding ID: id2\n",
      "Add of existing embedding ID: id3\n",
      "Add of existing embedding ID: id4\n",
      "Insert of existing embedding ID: id1\n",
      "Insert of existing embedding ID: id2\n",
      "Insert of existing embedding ID: id3\n",
      "Insert of existing embedding ID: id4\n",
      "Add of existing embedding ID: id1\n",
      "Add of existing embedding ID: id2\n",
      "Add of existing embedding ID: id3\n",
      "Add of existing embedding ID: id4\n"
     ]
    }
   ],
   "source": [
    "collection.add(\n",
    "    documents=[\"This is the first document which has information about idli and dosa preperation\", \n",
    "               \"But the story doesn't here and it is the second document and it has information regarding samosa and kachodi\", \n",
    "               \"There are many other documents which talks about beautiful natural mountain sites\",\n",
    "              \"There are some document related to Parotha preperation. They talk about different kind of Parotha\"],\n",
    "    ids=[\"id1\", \"id2\", \"id3\", \"id4\"]\n",
    ")"
   ]
  },
  {
   "cell_type": "code",
   "execution_count": 20,
   "id": "0c431bea-126b-4e69-8d16-073fe8695697",
   "metadata": {},
   "outputs": [
    {
     "data": {
      "text/plain": [
       "{'ids': ['id1', 'id2', 'id3', 'id4'],\n",
       " 'embeddings': None,\n",
       " 'metadatas': [None, None, None, None],\n",
       " 'documents': ['This is the first document which has information about idli and dosa preperation',\n",
       "  \"But the story doesn't here and it is the second document and it has information regarding samosa and kachodi\",\n",
       "  'There are many other documents which talks about beautiful natural mountain sites',\n",
       "  'There are some document related to Parotha preperation. They talk about different kind of Parotha'],\n",
       " 'uris': None,\n",
       " 'data': None,\n",
       " 'included': ['metadatas', 'documents']}"
      ]
     },
     "execution_count": 20,
     "metadata": {},
     "output_type": "execute_result"
    }
   ],
   "source": [
    "all_docs = collection.get()\n",
    "all_docs"
   ]
  },
  {
   "cell_type": "code",
   "execution_count": 21,
   "id": "270ed016-5ed9-4214-8ec9-0a5527844a8a",
   "metadata": {},
   "outputs": [
    {
     "data": {
      "text/plain": [
       "{'ids': ['id2'],\n",
       " 'embeddings': None,\n",
       " 'metadatas': [None],\n",
       " 'documents': [\"But the story doesn't here and it is the second document and it has information regarding samosa and kachodi\"],\n",
       " 'uris': None,\n",
       " 'data': None,\n",
       " 'included': ['metadatas', 'documents']}"
      ]
     },
     "execution_count": 21,
     "metadata": {},
     "output_type": "execute_result"
    }
   ],
   "source": [
    "collection.get(ids=\"id2\")"
   ]
  },
  {
   "cell_type": "code",
   "execution_count": 22,
   "id": "996f01a0-d0f7-4531-ba50-88f6630650f4",
   "metadata": {},
   "outputs": [
    {
     "name": "stderr",
     "output_type": "stream",
     "text": [
      "Number of requested results 10 is greater than number of elements in index 4, updating n_results = 4\n"
     ]
    },
    {
     "data": {
      "text/plain": [
       "{'ids': [['id3', 'id1', 'id4', 'id2']],\n",
       " 'distances': [[1.5778849413769147,\n",
       "   1.5785783990582167,\n",
       "   1.6616359155878568,\n",
       "   1.6954191629003474]],\n",
       " 'metadatas': [[None, None, None, None]],\n",
       " 'embeddings': None,\n",
       " 'documents': [['There are many other documents which talks about beautiful natural mountain sites',\n",
       "   'This is the first document which has information about idli and dosa preperation',\n",
       "   'There are some document related to Parotha preperation. They talk about different kind of Parotha',\n",
       "   \"But the story doesn't here and it is the second document and it has information regarding samosa and kachodi\"]],\n",
       " 'uris': None,\n",
       " 'data': None,\n",
       " 'included': ['metadatas', 'documents', 'distances']}"
      ]
     },
     "execution_count": 22,
     "metadata": {},
     "output_type": "execute_result"
    }
   ],
   "source": [
    "results = collection.query(query_texts= [\"Where is Dehraun?\"])\n",
    "results"
   ]
  },
  {
   "cell_type": "code",
   "execution_count": 23,
   "id": "6c640596-c6f5-4e65-9de0-249f93187274",
   "metadata": {},
   "outputs": [
    {
     "name": "stderr",
     "output_type": "stream",
     "text": [
      "Number of requested results 10 is greater than number of elements in index 4, updating n_results = 4\n"
     ]
    },
    {
     "data": {
      "text/plain": [
       "{'ids': [['id1', 'id2', 'id4', 'id3']],\n",
       " 'distances': [[1.5851462154516311,\n",
       "   1.6663431824478685,\n",
       "   1.6915834465009438,\n",
       "   1.7810375944383148]],\n",
       " 'metadatas': [[None, None, None, None]],\n",
       " 'embeddings': None,\n",
       " 'documents': [['This is the first document which has information about idli and dosa preperation',\n",
       "   \"But the story doesn't here and it is the second document and it has information regarding samosa and kachodi\",\n",
       "   'There are some document related to Parotha preperation. They talk about different kind of Parotha',\n",
       "   'There are many other documents which talks about beautiful natural mountain sites']],\n",
       " 'uris': None,\n",
       " 'data': None,\n",
       " 'included': ['metadatas', 'documents', 'distances']}"
      ]
     },
     "execution_count": 23,
     "metadata": {},
     "output_type": "execute_result"
    }
   ],
   "source": [
    "results = collection.query(query_texts= [\"Where people in Tamil Nadu?\"])\n",
    "results"
   ]
  },
  {
   "cell_type": "code",
   "execution_count": 24,
   "id": "faebc230-0094-4c87-baf0-f88bb94793bd",
   "metadata": {},
   "outputs": [
    {
     "name": "stderr",
     "output_type": "stream",
     "text": [
      "Number of requested results 10 is greater than number of elements in index 4, updating n_results = 4\n"
     ]
    },
    {
     "data": {
      "text/plain": [
       "{'ids': [['id3', 'id4', 'id1', 'id2']],\n",
       " 'distances': [[1.5507646328504125,\n",
       "   1.6468942348249913,\n",
       "   1.7031442751224524,\n",
       "   1.7174843579458006]],\n",
       " 'metadatas': [[None, None, None, None]],\n",
       " 'embeddings': None,\n",
       " 'documents': [['There are many other documents which talks about beautiful natural mountain sites',\n",
       "   'There are some document related to Parotha preperation. They talk about different kind of Parotha',\n",
       "   'This is the first document which has information about idli and dosa preperation',\n",
       "   \"But the story doesn't here and it is the second document and it has information regarding samosa and kachodi\"]],\n",
       " 'uris': None,\n",
       " 'data': None,\n",
       " 'included': ['metadatas', 'documents', 'distances']}"
      ]
     },
     "execution_count": 24,
     "metadata": {},
     "output_type": "execute_result"
    }
   ],
   "source": [
    "results = collection.query(query_texts= [\"Where are popular food in Amritsar?\"])\n",
    "results"
   ]
  },
  {
   "cell_type": "code",
   "execution_count": null,
   "id": "d816038d-7143-411e-b5b9-39d363166b71",
   "metadata": {},
   "outputs": [],
   "source": []
  },
  {
   "cell_type": "markdown",
   "id": "e2c597b4-2109-42bb-aaf9-cd26ae9161d8",
   "metadata": {},
   "source": [
    "# Generating Cold Email based on my Portfolio project as BDE to Job Poster"
   ]
  },
  {
   "cell_type": "code",
   "execution_count": 121,
   "id": "e35c8693-bccb-4253-86a2-40f83e0cfb92",
   "metadata": {},
   "outputs": [],
   "source": [
    "# @title Read Job Posting\n",
    "\n",
    "from langchain_community.document_loaders import WebBaseLoader\n",
    "\n",
    "loader = WebBaseLoader(\"https://jobs.nike.com/job/R-32222\")"
   ]
  },
  {
   "cell_type": "code",
   "execution_count": 101,
   "id": "de250f71-6f05-4f4f-8c38-7674eebe7a19",
   "metadata": {},
   "outputs": [],
   "source": [
    "page_data = loader.load().pop().page_content"
   ]
  },
  {
   "cell_type": "code",
   "execution_count": 102,
   "id": "8b32e070-c430-4b51-b28d-5142a6eb1426",
   "metadata": {},
   "outputs": [
    {
     "data": {
      "text/markdown": [
       "Apply for Senior Machine Learning Engineer\n",
       "\n",
       "Search JobsSkip navigationSearch JobsNIKE, INC. JOBSContract JobsJoin The Talent CommunityLife @ NikeOverviewBenefitsBrandsOverviewJordanConverseTeamsOverviewAdministrative SupportAdvanced InnovationAir Manufacturing InnovationAviationCommunicationsCustomer ServiceDesignDigitalFacilitiesFinance & AccountingGovernment & Public AffairsHuman ResourcesInsights & AnalyticsLegalManufacturing & EngineeringMarketingMerchandisingPlanningPrivacyProcurementProduct Creation, Development & ManagementRetail CorporateRetail StoresSalesSocial & Community ImpactSports MarketingStrategic PlanningSupply Chain, Distribution & LogisticsSustainabilityTechnologyLocationsOverviewNike WHQNike New York HQEHQ: Hilversum, The NetherlandsELC: Laakdal, BelgiumGreater China HQDiversity, Equity & InclusionOverviewMilitary InclusionDisability InclusionIndigenous InclusionInternshipsData & AnalyticsSenior Machine Learning EngineerGdansk, PomeranianBecome a Part of the NIKE, Inc. Team\n",
       "NIKE, Inc. does more than outfit the world’s best athletes. It is a place to explore potential, obliterate boundaries and push out the edges of what can be. The company looks for people who can grow, think, dream and create. Its culture thrives by embracing diversity and rewarding imagination. The brand seeks achievers, leaders and visionaries. At NIKE, Inc. it’s about each person bringing skills and passion to a challenging and constantly evolving game.NIKE, Inc. does more than outfit the world’s best athletes. It is a place to explore potential, obliterate boundaries and redefine what can be. We look for colleagues who can grow, think, dream and build. Our culture thrives by adopting diversity and exciting creativity. The Nike brand seeks achievers, leaders and dreamers. At NIKE, Inc. it’s about each person bringing skills and passion to a challenging and constantly evolving game!Who are we looking forAs a Sr. Machine Learning Engineer within the AIML team, you will be developing sophisticated analytics systems that directly impact our business.You will work on a cross-disciplinary team (DevOps/Data/Software Engineering) to enable data-driven decision-making across multiple organizations.Working at the intersection of machine learning and software engineering, you’ll create high-quality solutions that power Nike. You will work with others who are energized by the challenge of building things from the ground up, thinking out of the box, and applying the latest technologies in statistical, unsupervised, supervised, and machine-learning models at a global scale.Our teams enjoy a collaborative and academic environment that promotes developing new skills, mentorship, and a drive to deliver knowledge and software back to analytics and engineering communities, within and Nike and without. This culture is cultivated by intellectual curiosity, fun, willingness, and diversity.Sound like you?Who will you work withAIML is one of the key groups within Data and Artificial Intelligence. We’re chartered to scale machine learning and AI at Nike. For areas of the business early in their analytics journey, we embed cross-disciplinary teams of data scientists and engineers to unlock new capabilities and answer unsolved (or unasked!) questions.In mature areas with preexisting data science teams, we help scale machine learning by attaching engineering squads to grow their capacity to deliver for the business. In addition, we collaborate closely with platform and architecture partners to develop capabilities that simplify machine learning at scale within Nike (e.g. model deployment, A/B testing, model monitoring).Crucial Job Functions:Serve as an integral member of a multi-functional engineering team that delivers solutions unlocking machine learning for Nike. You will analyze and profile data to uncover insights in support of scalable solutions, and clean, prepare and verify the integrity of data for analysis and model creation. You’ll also track model accuracy, performance, relevance, and reliability. You will apply a variety of machine learning and collaborative filtering methods to data sets. You will aid in building APIs and software libraries that support the adoption of models in productionLeverage your prior experience, knowledge of industry trends, and personal creativity to develop new and innovative solutions which delight our customers in their mission to serve AthletesStay current with industry trends and recommend relevant technologies & products in the areas of Analytics, Machine Learning, Artificial Intelligence, and Data Science tools and other emerging technologies. Given the rapid pace of change in technology and machine learning today, always be pushing the boundary of what’s possible and be on the offence alwaysAccept and embody Nike’s core values (maxims) in your work and interactions with peers and stakeholders. Communicate effectively, build trust and strong relationships across the company, and do the right thingWhat you bring to Nike3+ years of experience in the field of ML Engineering or Software Engineering with a comparable bachelor’s degree in a relevant field, like computer science or software engineering, or equivalent experience.Understanding of Machine Learning, its applications, and the lifecycle of an ML application in production; including an ability to articulate the role of MLOps in the machine learning development life cycle from experimentation to production and measurementAn ability to significantly communicate, written, orally, and visually technical topics with peers and articulate the benefits and tradeoffs of various solutionsAbility to write robust, maintainable, and extendable code in PythonExperience working in and/or collaborating with a partial or fully distributed teamStrong experiential understanding of data structures, algorithms, and data solutionsFamiliarity with frameworks such as Scikit-learn, PyTorch, Tensorflow, Spark, FastAPI or similar platforms and frameworksExperience with cloud architecture and technologies (preferably Amazon Web Services: ECR, SageMaker, Lambda, API Gateway)Familiarity with pipeline orchestration tools such as AirFlow.Awareness of CI/CD pipelines and containerization is preferred.Fluency in the application of open-source technologies and the potential of standardized platforms in the area of Data Science, AI & ML.Nice to have: an interest in the potential of Generative AI to accelerate common development and data science tasks, or the deployment of Generative AI solutions in the enterpriseWhat do we offer Health & well-being benefits: sports costs covered, fully subsidized medical plan including eligible dependents Summer hours allow employees to leave the office on Friday at noon all Summer long! Performance Sharing Plan Financial benefits: group life insurance, disability & accident insurance Company product discount Casual and international work environment  #LI-EMEA NIKE, Inc. is a growth company that looks for team members to grow with it. Nike offers a generous total rewards package, a casual work environment, a diverse and inclusive culture, and an electric atmosphere for professional development. No matter the location, or the role, every Nike employee shares one galvanizing mission: To bring inspiration and innovation to every athlete* in the world.NIKE, Inc. is committed to employing a diverse workforce. Qualified applicants will receive consideration without regard to race, colour, religion, sex, national origin, age, sexual orientation, gender identity, gender expression, veteran status, or disability.NIKE, Inc. is a growth company that looks for team members to grow with it. Nike offers a generous total rewards package, casual work environment, a diverse and inclusive culture, and an electric atmosphere for professional development. No matter the location, or the role, every Nike employee shares one galvanizing mission: To bring inspiration and innovation to every athlete* in the world.NIKE, Inc. is committed to employing a diverse workforce. Qualified applicants will receive consideration without regard to race, color, religion, sex, national origin, age, sexual orientation, gender identity, gender expression, veteran status, or disability.How We HireAt NIKE, Inc. we promise to provide a premium, inclusive, compelling and authentic candidate experience. Delivering on this promise means we allow you to be at your best — and to do that, you need to understand how the hiring process works. Transparency is key.\r\n",
       "\r\n",
       "* This overview explains our hiring process for corporate roles. Note there may be different hiring steps involved for non-corporate roles.Start nowBenefitsWhether it’s transportation or financial health, we continually invest in our employees to help them achieve greatness — inside and outside of work. All who work here should be able to realize their full potential.Employee Assistance ProgramHolidaysMedical PlanPaid Time Off (PTO)Product DiscountsLearn moreFIND A STOREBECOME A MEMBERSIGN UP FOR EMAILSEND US FEEDBACKSTUDENT DISCOUNTSGET HELPGET HELPOrder StatusDeliveryReturnsPayment OptionsContact Us On Nike.com InquiriesContact Us On All Other InquiriesABOUT NIKEABOUT NIKENewsCareersInvestorsSustainabilityIndia© 2024 Nike, Inc. All Rights ReservedGuidesNike AdaptNike Air MaxNike FlyleatherNike PegasusNike Zoom FlyNike AirNike FlyEaseNike FreeNike ReactNike ZoomXNike Air Force 1Nike FlyknitNike JoyrideNike VaporflyTerms of SaleTerms of UseNike Privacy Policy"
      ],
      "text/plain": [
       "<IPython.core.display.Markdown object>"
      ]
     },
     "metadata": {},
     "output_type": "display_data"
    }
   ],
   "source": [
    "display(Markdown(page_data))"
   ]
  },
  {
   "cell_type": "code",
   "execution_count": 103,
   "id": "24912ce4-5fec-4d92-9c65-ab1e135fbd10",
   "metadata": {},
   "outputs": [],
   "source": [
    "from langchain_core.prompts import PromptTemplate\n",
    "prompt_extract = PromptTemplate.from_template(\n",
    "    \"\"\"\n",
    "    ### Scraped Text from Website:\n",
    "    {page_data}\n",
    "    ### Instruction:\n",
    "    The scrapped text is from the career's page of a website.\n",
    "    Your job is to extract the job postings and return them in JSON format containting following keys: Role, Experience, Skills, and Description.\n",
    "    Only return the valid JSON.\n",
    "    ### Vadlid JSON (No Preamble):\n",
    "    \"\"\"\n",
    ")"
   ]
  },
  {
   "cell_type": "code",
   "execution_count": 104,
   "id": "249edbc4-213e-4ef9-9d0a-3efbc33227cc",
   "metadata": {},
   "outputs": [
    {
     "name": "stdout",
     "output_type": "stream",
     "text": [
      "Here is the extracted job posting in JSON format:\n",
      "\n",
      "```\n",
      "[\n",
      "  {\n",
      "    \"Role\": \"Senior Machine Learning Engineer\",\n",
      "    \"Experience\": \"3+ years of experience in the field of ML Engineering or Software Engineering\",\n",
      "    \"Skills\": [\n",
      "      \"Machine Learning\",\n",
      "      \"Software Engineering\",\n",
      "      \"Python\",\n",
      "      \"Scikit-learn\",\n",
      "      \"PyTorch\",\n",
      "      \"Tensorflow\",\n",
      "      \"Spark\",\n",
      "      \"FastAPI\",\n",
      "      \"Cloud architecture\",\n",
      "      \"AWS\",\n",
      "      \"ECR\",\n",
      "      \"SageMaker\",\n",
      "      \"Lambda\",\n",
      "      \"API Gateway\",\n",
      "      \"AirFlow\",\n",
      "      \"CI/CD pipelines\",\n",
      "      \"Containerization\"\n",
      "    ],\n",
      "    \"Description\": \"As a Sr. Machine Learning Engineer within the AIML team, you will be developing sophisticated analytics systems that directly impact our business. You will work on a cross-disciplinary team (DevOps/Data/Software Engineering) to enable data-driven decision-making across multiple organizations.\"\n",
      "  }\n",
      "]\n",
      "```\n",
      "\n",
      "Let me know if you need any further assistance!\n"
     ]
    }
   ],
   "source": [
    "chain_extract = prompt_extract | llm\n",
    "resp = chain_extract.invoke(input = {'page_data':page_data})\n",
    "print(resp.content)"
   ]
  },
  {
   "cell_type": "code",
   "execution_count": 105,
   "id": "1bfc22f0-575c-4e09-af1b-da48a7b1faa2",
   "metadata": {},
   "outputs": [
    {
     "name": "stdout",
     "output_type": "stream",
     "text": [
      "[{'Role': 'Senior Machine Learning Engineer', 'Experience': '3+ years of experience in the field of ML Engineering or Software Engineering', 'Skills': ['Machine Learning', 'Software Engineering', 'Python', 'Scikit-learn', 'PyTorch', 'Tensorflow', 'Spark', 'FastAPI', 'Cloud architecture', 'AWS', 'ECR', 'SageMaker', 'Lambda', 'API Gateway', 'AirFlow', 'CI/CD pipelines', 'Containerization'], 'Description': 'As a Sr. Machine Learning Engineer within the AIML team, you will be developing sophisticated analytics systems that directly impact our business. You will work on a cross-disciplinary team (DevOps/Data/Software Engineering) to enable data-driven decision-making across multiple organizations.'}]\n"
     ]
    }
   ],
   "source": [
    "from langchain_core.output_parsers import JsonOutputParser\n",
    "\n",
    "json_parser = JsonOutputParser()\n",
    "json_resp = json_parser.parse(resp.content)\n",
    "print(json_resp)\n",
    "                              "
   ]
  },
  {
   "cell_type": "markdown",
   "id": "762482ac-0a5f-4326-bed1-edebb3010788",
   "metadata": {},
   "source": [
    "### List list of My Porftfolio or project I have done"
   ]
  },
  {
   "cell_type": "code",
   "execution_count": 106,
   "id": "fc73637f-13a4-45b9-a2fd-56364cdeb21a",
   "metadata": {},
   "outputs": [],
   "source": [
    "import pandas as pd \n",
    "df = pd.read_csv(\"my_portfolio.csv\")"
   ]
  },
  {
   "cell_type": "code",
   "execution_count": 107,
   "id": "965c6ca4-0123-4c80-80ad-9ab2f67c3461",
   "metadata": {},
   "outputs": [
    {
     "data": {
      "text/html": [
       "<div>\n",
       "<style scoped>\n",
       "    .dataframe tbody tr th:only-of-type {\n",
       "        vertical-align: middle;\n",
       "    }\n",
       "\n",
       "    .dataframe tbody tr th {\n",
       "        vertical-align: top;\n",
       "    }\n",
       "\n",
       "    .dataframe thead th {\n",
       "        text-align: right;\n",
       "    }\n",
       "</style>\n",
       "<table border=\"1\" class=\"dataframe\">\n",
       "  <thead>\n",
       "    <tr style=\"text-align: right;\">\n",
       "      <th></th>\n",
       "      <th>Techstack</th>\n",
       "      <th>Links</th>\n",
       "    </tr>\n",
       "  </thead>\n",
       "  <tbody>\n",
       "    <tr>\n",
       "      <th>0</th>\n",
       "      <td>React, Node.js, MongoDB</td>\n",
       "      <td>https://example.com/react-portfolio</td>\n",
       "    </tr>\n",
       "    <tr>\n",
       "      <th>1</th>\n",
       "      <td>Angular,.NET, SQL Server</td>\n",
       "      <td>https://example.com/angular-portfolio</td>\n",
       "    </tr>\n",
       "    <tr>\n",
       "      <th>2</th>\n",
       "      <td>Vue.js, Ruby on Rails, PostgreSQL</td>\n",
       "      <td>https://example.com/vue-portfolio</td>\n",
       "    </tr>\n",
       "    <tr>\n",
       "      <th>3</th>\n",
       "      <td>Python, Django, MySQL</td>\n",
       "      <td>https://example.com/python-portfolio</td>\n",
       "    </tr>\n",
       "    <tr>\n",
       "      <th>4</th>\n",
       "      <td>Java, Spring Boot, Oracle</td>\n",
       "      <td>https://example.com/java-portfolio</td>\n",
       "    </tr>\n",
       "    <tr>\n",
       "      <th>5</th>\n",
       "      <td>Flutter, Firebase, GraphQL</td>\n",
       "      <td>https://example.com/flutter-portfolio</td>\n",
       "    </tr>\n",
       "    <tr>\n",
       "      <th>6</th>\n",
       "      <td>WordPress, PHP, MySQL</td>\n",
       "      <td>https://example.com/wordpress-portfolio</td>\n",
       "    </tr>\n",
       "    <tr>\n",
       "      <th>7</th>\n",
       "      <td>Magento, PHP, MySQL</td>\n",
       "      <td>https://example.com/magento-portfolio</td>\n",
       "    </tr>\n",
       "    <tr>\n",
       "      <th>8</th>\n",
       "      <td>React Native, Node.js, MongoDB</td>\n",
       "      <td>https://example.com/react-native-portfolio</td>\n",
       "    </tr>\n",
       "    <tr>\n",
       "      <th>9</th>\n",
       "      <td>iOS, Swift, Core Data</td>\n",
       "      <td>https://example.com/ios-portfolio</td>\n",
       "    </tr>\n",
       "    <tr>\n",
       "      <th>10</th>\n",
       "      <td>Android, Java, Room Persistence</td>\n",
       "      <td>https://example.com/android-portfolio</td>\n",
       "    </tr>\n",
       "    <tr>\n",
       "      <th>11</th>\n",
       "      <td>Kotlin, Android, Firebase</td>\n",
       "      <td>https://example.com/kotlin-android-portfolio</td>\n",
       "    </tr>\n",
       "    <tr>\n",
       "      <th>12</th>\n",
       "      <td>Android TV, Kotlin, Android NDK</td>\n",
       "      <td>https://example.com/android-tv-portfolio</td>\n",
       "    </tr>\n",
       "    <tr>\n",
       "      <th>13</th>\n",
       "      <td>iOS, Swift, ARKit</td>\n",
       "      <td>https://example.com/ios-ar-portfolio</td>\n",
       "    </tr>\n",
       "    <tr>\n",
       "      <th>14</th>\n",
       "      <td>Cross-platform, Xamarin, Azure</td>\n",
       "      <td>https://example.com/xamarin-portfolio</td>\n",
       "    </tr>\n",
       "    <tr>\n",
       "      <th>15</th>\n",
       "      <td>Backend, Kotlin, Spring Boot</td>\n",
       "      <td>https://example.com/kotlin-backend-portfolio</td>\n",
       "    </tr>\n",
       "    <tr>\n",
       "      <th>16</th>\n",
       "      <td>Frontend, TypeScript, Angular</td>\n",
       "      <td>https://example.com/typescript-frontend-portfolio</td>\n",
       "    </tr>\n",
       "    <tr>\n",
       "      <th>17</th>\n",
       "      <td>Full-stack, JavaScript, Express.js</td>\n",
       "      <td>https://example.com/full-stack-js-portfolio</td>\n",
       "    </tr>\n",
       "    <tr>\n",
       "      <th>18</th>\n",
       "      <td>Machine Learning, Python, TensorFlow</td>\n",
       "      <td>https://example.com/ml-python-portfolio</td>\n",
       "    </tr>\n",
       "    <tr>\n",
       "      <th>19</th>\n",
       "      <td>DevOps, Jenkins, Docker</td>\n",
       "      <td>https://example.com/devops-portfolio</td>\n",
       "    </tr>\n",
       "  </tbody>\n",
       "</table>\n",
       "</div>"
      ],
      "text/plain": [
       "                               Techstack  \\\n",
       "0                React, Node.js, MongoDB   \n",
       "1               Angular,.NET, SQL Server   \n",
       "2      Vue.js, Ruby on Rails, PostgreSQL   \n",
       "3                  Python, Django, MySQL   \n",
       "4              Java, Spring Boot, Oracle   \n",
       "5             Flutter, Firebase, GraphQL   \n",
       "6                  WordPress, PHP, MySQL   \n",
       "7                    Magento, PHP, MySQL   \n",
       "8         React Native, Node.js, MongoDB   \n",
       "9                  iOS, Swift, Core Data   \n",
       "10       Android, Java, Room Persistence   \n",
       "11             Kotlin, Android, Firebase   \n",
       "12       Android TV, Kotlin, Android NDK   \n",
       "13                     iOS, Swift, ARKit   \n",
       "14        Cross-platform, Xamarin, Azure   \n",
       "15          Backend, Kotlin, Spring Boot   \n",
       "16         Frontend, TypeScript, Angular   \n",
       "17    Full-stack, JavaScript, Express.js   \n",
       "18  Machine Learning, Python, TensorFlow   \n",
       "19               DevOps, Jenkins, Docker   \n",
       "\n",
       "                                                Links  \n",
       "0                 https://example.com/react-portfolio  \n",
       "1               https://example.com/angular-portfolio  \n",
       "2                   https://example.com/vue-portfolio  \n",
       "3                https://example.com/python-portfolio  \n",
       "4                  https://example.com/java-portfolio  \n",
       "5               https://example.com/flutter-portfolio  \n",
       "6             https://example.com/wordpress-portfolio  \n",
       "7               https://example.com/magento-portfolio  \n",
       "8          https://example.com/react-native-portfolio  \n",
       "9                   https://example.com/ios-portfolio  \n",
       "10              https://example.com/android-portfolio  \n",
       "11       https://example.com/kotlin-android-portfolio  \n",
       "12           https://example.com/android-tv-portfolio  \n",
       "13               https://example.com/ios-ar-portfolio  \n",
       "14              https://example.com/xamarin-portfolio  \n",
       "15       https://example.com/kotlin-backend-portfolio  \n",
       "16  https://example.com/typescript-frontend-portfolio  \n",
       "17        https://example.com/full-stack-js-portfolio  \n",
       "18            https://example.com/ml-python-portfolio  \n",
       "19               https://example.com/devops-portfolio  "
      ]
     },
     "execution_count": 107,
     "metadata": {},
     "output_type": "execute_result"
    }
   ],
   "source": [
    "df"
   ]
  },
  {
   "cell_type": "code",
   "execution_count": 108,
   "id": "edf431ac-d0e4-47c3-bc9a-ffb3b2e7af63",
   "metadata": {},
   "outputs": [],
   "source": [
    "# collection = client.create_collection(\"Job_Skills_Docs\")\n",
    "collection = client.get_collection(\"Job_Skills_Docs\")"
   ]
  },
  {
   "cell_type": "code",
   "execution_count": 109,
   "id": "8e5fb28f-3238-49f3-8ca6-68d590d8405f",
   "metadata": {},
   "outputs": [],
   "source": [
    "import uuid\n",
    "if not collection.count():\n",
    "    for _, row in df.iterrows():\n",
    "       collection.add(documents=row[\"Techstack\"],\n",
    "                      metadatas={\"links\": row['Links']},\n",
    "                      ids=[str(uuid.uuid4())]\n",
    "                           )\n",
    "     \n",
    "        \n",
    "        "
   ]
  },
  {
   "cell_type": "code",
   "execution_count": 110,
   "id": "54ad798b-d858-45ec-a5ec-c87657610639",
   "metadata": {},
   "outputs": [],
   "source": [
    "links = collection.query(query_texts=[\"experience in python jobs\", \\\n",
    "                                       \"expeirnece in java jobs\", \" experience in docker jobs\"], n_results=2).get(\"metadatas\",[])"
   ]
  },
  {
   "cell_type": "code",
   "execution_count": 111,
   "id": "8d1a67a1-d125-4d2d-9c47-e94f59ca7447",
   "metadata": {},
   "outputs": [
    {
     "data": {
      "text/plain": [
       "[[{'links': 'https://example.com/python-portfolio'},\n",
       "  {'links': 'https://example.com/ml-python-portfolio'}],\n",
       " [{'links': 'https://example.com/java-portfolio'},\n",
       "  {'links': 'https://example.com/kotlin-backend-portfolio'}],\n",
       " [{'links': 'https://example.com/devops-portfolio'},\n",
       "  {'links': 'https://example.com/ml-python-portfolio'}]]"
      ]
     },
     "execution_count": 111,
     "metadata": {},
     "output_type": "execute_result"
    }
   ],
   "source": [
    "links"
   ]
  },
  {
   "cell_type": "code",
   "execution_count": 119,
   "id": "65349114-99bc-4215-8577-bdfd6c31a827",
   "metadata": {},
   "outputs": [
    {
     "data": {
      "text/plain": [
       "['Machine Learning',\n",
       " 'Software Engineering',\n",
       " 'Python',\n",
       " 'Scikit-learn',\n",
       " 'PyTorch',\n",
       " 'Tensorflow',\n",
       " 'Spark',\n",
       " 'FastAPI',\n",
       " 'Cloud architecture',\n",
       " 'AWS',\n",
       " 'ECR',\n",
       " 'SageMaker',\n",
       " 'Lambda',\n",
       " 'API Gateway',\n",
       " 'AirFlow',\n",
       " 'CI/CD pipelines',\n",
       " 'Containerization']"
      ]
     },
     "execution_count": 119,
     "metadata": {},
     "output_type": "execute_result"
    }
   ],
   "source": [
    "job = json_resp[0]\n",
    "job['Skills']\n",
    "# job"
   ]
  },
  {
   "cell_type": "code",
   "execution_count": 124,
   "id": "07d29087-93b7-44bd-98cc-68fb73222849",
   "metadata": {},
   "outputs": [
    {
     "name": "stdout",
     "output_type": "stream",
     "text": [
      "Here is the cold email:\n",
      "\n",
      "Subject: Expert Machine Learning Engineering Services for Your Business\n",
      "\n",
      "Dear [Client],\n",
      "\n",
      "I came across your job posting for a Senior Machine Learning Engineer and was impressed by the scope of the project. As a Business Development Executive at dasarpAI, I'd like to introduce our team of experts who can help you develop sophisticated analytics systems that drive business decisions.\n",
      "\n",
      "With our expertise in Machine Learning, Software Engineering, and Cloud Architecture, we can support your AIML team in developing and deploying scalable models that meet your business needs. Our team is well-versed in Python, Scikit-learn, PyTorch, Tensorflow, Spark, and other relevant technologies mentioned in your job description.\n",
      "\n",
      "We have a proven track record of delivering successful projects in Machine Learning and Software Engineering. You can review our Python portfolio (https://example.com/python-portfolio) and ML-Python portfolio (https://example.com/ml-python-portfolio) to see our capabilities in action.\n",
      "\n",
      "At dasarpAI, we take pride in our ability to facilitate the seamless integration of business processes through automated tools. Our expertise in DevOps (https://example.com/devops-portfolio) ensures that our solutions are scalable, efficient, and easy to maintain.\n",
      "\n",
      "I'd love to set up a call to discuss how dasarpAI can support your project requirements. Please let me know if you're interested, and we can schedule a time that suits you.\n",
      "\n",
      "Best regards,\n",
      "\n",
      "Gayatri\n",
      "Business Development Executive\n",
      "dasarpAI\n"
     ]
    }
   ],
   "source": [
    "prompt_email = PromptTemplate.from_template(\n",
    "        \"\"\"\n",
    "        ### JOB DESCRIPTION:\n",
    "        {job_description}\n",
    "        \n",
    "        ### INSTRUCTION:\n",
    "        You are Gayatri, a business development executive at dasarpAI. dasarpAI is an AI & Software Consulting company dedicated to facilitating\n",
    "        the seamless integration of business processes through automated tools. \n",
    "        Over our experience, we have empowered numerous enterprises with tailored solutions, fostering scalability, \n",
    "        process optimization, cost reduction, and heightened overall efficiency. \n",
    "        Your job is to write a cold email to the client regarding the job mentioned above describing the capability of dasarpAI \n",
    "        in fulfilling their needs.\n",
    "        Also add the most relevant ones from the following links to showcase dasarpAI's portfolio: {link_list}\n",
    "        Remember you are Gayatri, BDE at dasarpAI. \n",
    "        Do not provide a preamble.\n",
    "        ### EMAIL (NO PREAMBLE):\n",
    "        \n",
    "        \"\"\"\n",
    "        )\n",
    "\n",
    "chain_email = prompt_email | llm\n",
    "res = chain_email.invoke({\"job_description\": str(job), \"link_list\": links})\n",
    "print(res.content)"
   ]
  },
  {
   "cell_type": "code",
   "execution_count": null,
   "id": "b1d64e69-9472-4004-b4e7-98b67137add3",
   "metadata": {},
   "outputs": [],
   "source": []
  }
 ],
 "metadata": {
  "kernelspec": {
   "display_name": "Python 3 (ipykernel)",
   "language": "python",
   "name": "python3"
  },
  "language_info": {
   "codemirror_mode": {
    "name": "ipython",
    "version": 3
   },
   "file_extension": ".py",
   "mimetype": "text/x-python",
   "name": "python",
   "nbconvert_exporter": "python",
   "pygments_lexer": "ipython3",
   "version": "3.12.4"
  }
 },
 "nbformat": 4,
 "nbformat_minor": 5
}
