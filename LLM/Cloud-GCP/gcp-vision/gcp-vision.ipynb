{
  "cells": [
    {
      "cell_type": "markdown",
      "metadata": {
        "id": "Tce3stUlHN0L"
      },
      "source": [
        "##### Copyright 2024 Google LLC."
      ]
    },
    {
      "cell_type": "code",
      "execution_count": null,
      "metadata": {
        "cellView": "form",
        "id": "tuOe1ymfHZPu"
      },
      "outputs": [],
      "source": [
        "#@title Licensed under the Apache License, Version 2.0 (the \"License\");\n",
        "# you may not use this file except in compliance with the License.\n",
        "# You may obtain a copy of the License at\n",
        "#\n",
        "# https://www.apache.org/licenses/LICENSE-2.0\n",
        "#\n",
        "# Unless required by applicable law or agreed to in writing, software\n",
        "# distributed under the License is distributed on an \"AS IS\" BASIS,\n",
        "# WITHOUT WARRANTIES OR CONDITIONS OF ANY KIND, either express or implied.\n",
        "# See the License for the specific language governing permissions and\n",
        "# limitations under the License."
      ]
    },
    {
      "cell_type": "markdown",
      "metadata": {
        "id": "084u8u0DpBlo"
      },
      "source": [
        "# Explore vision capabilities with the Gemini API"
      ]
    },
    {
      "cell_type": "markdown",
      "metadata": {
        "id": "ZFWzQEqNosrS"
      },
      "source": [
        "<table class=\"tfo-notebook-buttons\" align=\"left\">\n",
        "  <td>\n",
        "    <a target=\"_blank\" href=\"https://ai.google.dev/gemini-api/docs/vision\"><img src=\"https://ai.google.dev/static/site-assets/images/docs/notebook-site-button.png\" height=\"32\" width=\"32\" />View on ai.google.dev</a>\n",
        "  <td>\n",
        "    <a target=\"_blank\" href=\"https://colab.research.google.com/github/google/generative-ai-docs/blob/main/site/en/gemini-api/docs/vision.ipynb\"><img src=\"https://www.tensorflow.org/images/colab_logo_32px.png\" />Run in Google Colab</a>\n",
        "  </td>\n",
        "  <td>\n",
        "    <a target=\"_blank\" href=\"https://github.com/google/generative-ai-docs/blob/main/site/en/gemini-api/docs/vision.ipynb\"><img src=\"https://www.tensorflow.org/images/GitHub-Mark-32px.png\" />View source on GitHub</a>\n",
        "  </td>\n",
        "</table>"
      ]
    },
    {
      "cell_type": "markdown",
      "metadata": {
        "id": "3c5e92a74e64"
      },
      "source": [
        "The Gemini API can run inference on images and videos passed to it. When passed an image, a series of images, or a video, Gemini can:\n",
        "\n",
        "*   Describe or answer questions about the content\n",
        "*   Summarize the content\n",
        "*   Extrapolate from the content\n",
        "\n",
        "This tutorial demonstrates some possible ways to prompt the Gemini API with\n",
        "images and video input. All output is text-only."
      ]
    },
    {
      "cell_type": "markdown",
      "metadata": {
        "id": "VxCstRHvpX0r"
      },
      "source": [
        "## Setup\n",
        "\n",
        "Before you use the File API, you need to install the Gemini API SDK package and configure an API key. This section describes how to complete these setup steps."
      ]
    },
    {
      "cell_type": "markdown",
      "metadata": {
        "id": "G6J_rV2ipmj_"
      },
      "source": [
        "### Install the Python SDK and import packages\n",
        "\n",
        "The Python SDK for the Gemini API is contained in the [google-generativeai](https://pypi.org/project/google-generativeai/) package. Install the dependency using pip."
      ]
    },
    {
      "cell_type": "code",
      "execution_count": 1,
      "metadata": {
        "id": "mN8x8DPgu9Kv"
      },
      "outputs": [],
      "source": [
        "!pip install -q -U google-generativeai"
      ]
    },
    {
      "cell_type": "markdown",
      "metadata": {
        "id": "NInUZ4hwDq6d"
      },
      "source": [
        "Import the necessary packages."
      ]
    },
    {
      "cell_type": "code",
      "execution_count": 2,
      "metadata": {
        "id": "0x3xmmWrDtEH"
      },
      "outputs": [],
      "source": [
        "import google.generativeai as genai\n",
        "from IPython.display import Markdown"
      ]
    },
    {
      "cell_type": "markdown",
      "metadata": {
        "id": "l8g4hTRotheH"
      },
      "source": [
        "### Set up your API key\n",
        "\n",
        "The File API uses API keys for authentication and access. Uploaded files are associated with the project linked to the API key. Unlike other Gemini APIs that use API keys, your API key also grants access to data you've uploaded to the File API, so take extra care in keeping your API key secure. For more on keeping your keys\n",
        "secure, see [Best practices for using API\n",
        "keys](https://support.google.com/googleapi/answer/6310037).\n",
        "\n",
        "Store your API key in a Colab Secret named `GOOGLE_API_KEY`. If you don't already have an API key, or are unfamiliar with Colab Secrets, refer to the [Authentication quickstart](https://github.com/google-gemini/gemini-api-cookbook/blob/main/quickstarts/Authentication.ipynb)."
      ]
    },
    {
      "cell_type": "code",
      "execution_count": 3,
      "metadata": {
        "id": "d6lYXRcjthKV"
      },
      "outputs": [],
      "source": [
        "from google.colab import userdata\n",
        "GOOGLE_API_KEY=userdata.get('GOOGLE_API_KEY')\n",
        "\n",
        "genai.configure(api_key=GOOGLE_API_KEY)"
      ]
    },
    {
      "cell_type": "markdown",
      "metadata": {
        "id": "c-z4zsCUlaru"
      },
      "source": [
        "## Prompting with images\n",
        "\n",
        "In this tutorial, you will upload images using the File API or as inline data and generate content based on those images."
      ]
    },
    {
      "cell_type": "markdown",
      "metadata": {
        "id": "AKNehP2tr3Cr"
      },
      "source": [
        "### Technical details (images)\n",
        "Gemini 1.5 Pro and Flash support a maximum of 3,600 image files.\n",
        "\n",
        "Images must be in one of the following image data [MIME types](https://developers.google.com/drive/api/guides/ref-export-formats):\n",
        "\n",
        "-   PNG - `image/png`\n",
        "-   JPEG - `image/jpeg`\n",
        "-   WEBP - `image/webp`\n",
        "-   HEIC - `image/heic`\n",
        "-   HEIF - `image/heif`\n",
        "\n",
        "Each image is equivalent to 258 tokens.\n",
        "\n",
        "While there are no specific limits to the number of pixels in an image besides the model’s context window, larger images are scaled down to a maximum resolution of 3072x3072 while preserving their original aspect ratio, while smaller images are scaled up to 768x768 pixels. There is no cost reduction for images at lower sizes, other than bandwidth, or performance improvement for images at higher resolution.\n",
        "\n",
        "For best results:\n",
        "\n",
        "*   Rotate images to the correct orientation before uploading.\n",
        "*   Avoid blurry images.\n",
        "*   If using a single image, place the text prompt after the image."
      ]
    },
    {
      "cell_type": "markdown",
      "metadata": {
        "id": "rsdNkDszLBmQ"
      },
      "source": [
        "### Upload an image file using the File API\n",
        "\n",
        "Use the File API to upload an image of any size. (Always use the File API when the combination of files and system instructions that you intend to send is larger than 20 MB.)\n",
        "\n",
        "**NOTE**: The File API lets you store up to 20 GB of files per project, with a per-file maximum size of 2 GB. Files are stored for 48 hours. They can be accessed in that period with your API key, but cannot be downloaded from the API. It is available at no cost in all regions where the Gemini API is available.\n",
        "\n",
        "Start by downloading this [sketch of a jetpack](https://storage.googleapis.com/generativeai-downloads/images/jetpack.jpg)."
      ]
    },
    {
      "cell_type": "code",
      "execution_count": 4,
      "metadata": {
        "id": "lC6sS6DnmGmi",
        "outputId": "6cc9063d-3a78-40bd-cbe9-8ed07419a5fb",
        "colab": {
          "base_uri": "https://localhost:8080/"
        }
      },
      "outputs": [
        {
          "output_type": "stream",
          "name": "stdout",
          "text": [
            "  % Total    % Received % Xferd  Average Speed   Time    Time     Time  Current\n",
            "                                 Dload  Upload   Total   Spent    Left  Speed\n",
            "\r  0     0    0     0    0     0      0      0 --:--:-- --:--:-- --:--:--     0\r100  349k  100  349k    0     0  1997k      0 --:--:-- --:--:-- --:--:-- 2006k\n"
          ]
        }
      ],
      "source": [
        "!curl -o jetpack.jpg https://storage.googleapis.com/generativeai-downloads/images/jetpack.jpg"
      ]
    },
    {
      "cell_type": "markdown",
      "metadata": {
        "id": "qfa2VSqEsulq"
      },
      "source": [
        "Upload the image using [`media.upload`](https://ai.google.dev/api/rest/v1beta/media/upload) and print the URI, which is used as a reference in Gemini API calls."
      ]
    },
    {
      "cell_type": "code",
      "execution_count": 5,
      "metadata": {
        "id": "N9NxXGZKKusG",
        "outputId": "a7e96c58-fc33-4796-fcc4-7c8cd0bf736b",
        "colab": {
          "base_uri": "https://localhost:8080/",
          "height": 34
        }
      },
      "outputs": [
        {
          "output_type": "stream",
          "name": "stdout",
          "text": [
            "Uploaded file 'Jetpack drawing' as: https://generativelanguage.googleapis.com/v1beta/files/ta72oiyqu4nt\n"
          ]
        }
      ],
      "source": [
        "# Upload the file and print a confirmation.\n",
        "sample_file = genai.upload_file(path=\"jetpack.jpg\",\n",
        "                            display_name=\"Jetpack drawing\")\n",
        "\n",
        "print(f\"Uploaded file '{sample_file.display_name}' as: {sample_file.uri}\")"
      ]
    },
    {
      "cell_type": "markdown",
      "metadata": {
        "id": "cto22vhKOvGQ"
      },
      "source": [
        "The `response` shows that the File API stored the specified `display_name` for the uploaded file and a `uri` to reference the file in Gemini API calls. Use `response` to track how uploaded files are mapped to URIs.\n",
        "\n",
        "Depending on your use case, you can also store the URIs in structures such as a `dict` or a database."
      ]
    },
    {
      "cell_type": "markdown",
      "metadata": {
        "id": "ds5iJlaembWe"
      },
      "source": [
        "### Verify image file upload and get metadata\n",
        "\n",
        "You can verify the API successfully stored the uploaded file and get its metadata by calling [`files.get`](https://ai.google.dev/api/rest/v1beta/files/get) through the SDK. Only the `name` (and by extension, the `uri`) are unique. Use `display_name` to identify files only if you manage uniqueness yourself."
      ]
    },
    {
      "cell_type": "code",
      "execution_count": 6,
      "metadata": {
        "id": "kLFsVLFHOWSV",
        "outputId": "a32390d7-989e-4a27-8dee-d251c0e0e65a",
        "colab": {
          "base_uri": "https://localhost:8080/",
          "height": 34
        }
      },
      "outputs": [
        {
          "output_type": "stream",
          "name": "stdout",
          "text": [
            "Retrieved file 'Jetpack drawing' as: https://generativelanguage.googleapis.com/v1beta/files/ta72oiyqu4nt\n"
          ]
        }
      ],
      "source": [
        "file = genai.get_file(name=sample_file.name)\n",
        "print(f\"Retrieved file '{file.display_name}' as: {sample_file.uri}\")"
      ]
    },
    {
      "cell_type": "markdown",
      "metadata": {
        "id": "BqzIGKBmnFoJ"
      },
      "source": [
        "Depending on your use case, you can store the URIs in structures, such as a `dict` or a database."
      ]
    },
    {
      "cell_type": "markdown",
      "metadata": {
        "id": "EPPOECHzsIGJ"
      },
      "source": [
        "### Prompt with the uploaded image and text\n",
        "\n",
        "After uploading the file, you can make GenerateContent requests that reference the File API URI. Select the generative model and provide it with a text prompt and the uploaded image."
      ]
    },
    {
      "cell_type": "code",
      "execution_count": 7,
      "metadata": {
        "id": "ZYVFqmLkl5nE",
        "outputId": "efd690ab-e940-4eee-e0ba-adc7bcca928f",
        "colab": {
          "base_uri": "https://localhost:8080/",
          "height": 800
        }
      },
      "outputs": [
        {
          "output_type": "execute_result",
          "data": {
            "text/plain": [
              "<IPython.core.display.Markdown object>"
            ],
            "text/markdown": ">While a fully functional jetpack backpack remains outside the realm of current technology, we can still explore how one might be manufactured if such technology were to exist:\n\n**1. Materials:**\n\n* **Body/Fabric:** Lightweight yet incredibly durable material like ballistic nylon or even carbon fiber weaves for the backpack exterior. \n* **Boosters:** \n    * **Housing:**  Heat-resistant ceramics or high-grade alloys to withstand extreme temperatures.\n    * **Nozzles:**  Advanced refractory metals like tungsten or rhenium for their heat resistance.\n* **Power Source:**\n    * **Steam Generator:** High-pressure boiler system potentially made from titanium or similar strong, lightweight metals.\n    * **Fuel:**  Efficient and clean-burning fuel storage and delivery system. This is the biggest hurdle – current fuels lack the energy density for sustained flight. \n* **Electronics:**\n    * **Micro-turbines/Valves:**  Precision engineered for control and efficiency.\n    * **Control System:**  Sophisticated flight computer, gyroscopes, and sensors for stability and maneuverability.\n* **Comfort Features:**\n    * **Padding:**  High-quality foam padding for the straps and back panel.\n    * **Straps:**  Adjustable, reinforced straps.\n\n**2. Manufacturing Process:**\n\n* **High-Tech Manufacturing:**  Extensive use of CNC machining, 3D printing (potentially with metals and ceramics), and advanced welding techniques for the boosters and power source components.\n* **Electronics Integration:**  Skilled technicians would carefully assemble and integrate the complex electronics, wiring, and control systems.\n* **Assembly:**  A combination of automated processes and skilled labor would be required to assemble the jetpack components, attach them to the backpack body, and ensure all systems are integrated seamlessly.\n* **Rigorous Testing:**  Each jetpack would undergo rigorous safety and performance testing in specialized facilities, including simulations of flight conditions.\n\n**3. Challenges:**\n\n* **Energy Density:**  Finding a fuel source with sufficient energy density to power sustained flight in a compact, lightweight package is the primary challenge. \n* **Heat Management:**  Steam-powered boosters would generate extreme heat. Efficient cooling and heat dissipation systems would be critical to prevent damage to the backpack and the wearer.\n* **Safety:**  Ensuring the safe operation of a personal jetpack would be paramount. Redundant systems, fail-safes, and rigorous pilot training would be essential.\n\n**4. Ethical and Regulatory Considerations:**\n\n* **Legislation:**  New laws and regulations would be necessary to govern the use of personal jetpacks, addressing issues like air traffic control, licensing, and safety standards.\n* **Environmental Impact:**  The environmental impact of the fuel source and emissions would require careful consideration.\n\nWhile the jetpack backpack described is still a fictional concept, advancements in materials science, energy storage, and propulsion technology may one day make such a product possible. However, significant engineering hurdles remain before we can truly take to the skies with our backpacks. \n"
          },
          "metadata": {},
          "execution_count": 7
        }
      ],
      "source": [
        "# Choose a Gemini API model.\n",
        "model = genai.GenerativeModel(model_name=\"gemini-1.5-pro-latest\")\n",
        "\n",
        "# Prompt the model with text and the previously uploaded image.\n",
        "response = model.generate_content([sample_file, \"Describe how this product might be manufactured.\"])\n",
        "\n",
        "Markdown(\">\" + response.text)"
      ]
    },
    {
      "cell_type": "markdown",
      "metadata": {
        "id": "Lm862F3zthiI"
      },
      "source": [
        "### Upload one or more locally stored image files\n",
        "\n",
        "Alternatively, you can upload your own files. You can download and use our drawings of [piranha-infested waters](https://storage.googleapis.com/generativeai-downloads/images/piranha.jpg) and a [firefighter with a cat](https://storage.googleapis.com/generativeai-downloads/images/firefighter.jpg). First, save these files to your local directory.\n",
        "\n",
        "Then click **Files** on the left sidebar. For each file, click the **Upload** button, then navigate to that file's location and upload it:\n",
        "\n",
        "<img width=400 src=\"https://ai.google.dev/tutorials/images/colab_upload.png\">\n",
        "\n",
        "When the combination of files and system instructions that you intend to send is larger than 20 MB in size, use the File API to upload those files, as previously shown. Smaller files can instead be called locally from the Gemini API:\n"
      ]
    },
    {
      "cell_type": "code",
      "source": [
        "# Choose a Gemini model.\n",
        "model = genai.GenerativeModel(model_name=\"gemini-1.5-pro-latest\")\n",
        "\n",
        "prompt = \"Extract the text from the image.\""
      ],
      "metadata": {
        "id": "BiFc5n_pu2po"
      },
      "execution_count": null,
      "outputs": []
    },
    {
      "cell_type": "code",
      "source": [
        "import PIL.Image\n",
        "sample_file4 = PIL.Image.open('/content/2024-10-27 07_49_12-Elearning.jpg')"
      ],
      "metadata": {
        "id": "AociopMMrNxV"
      },
      "execution_count": 8,
      "outputs": []
    },
    {
      "cell_type": "code",
      "source": [
        "# !unzip -q \"/content/2024-10-27 08_03_33-Elearning.zip\" -d /content/images\n",
        "!unzip -q \"/content/2024-10-27 17_20_16-Elearning.zip\" -d /content/images1\n"
      ],
      "metadata": {
        "id": "0QgwZQCZsTbQ"
      },
      "execution_count": 22,
      "outputs": []
    },
    {
      "cell_type": "code",
      "source": [
        "# prompt: above code is not print markdown in the output\n",
        "\n",
        "import google.generativeai as genai\n",
        "from IPython.display import Markdown\n",
        "from google.colab import userdata\n",
        "import PIL.Image\n",
        "import os\n",
        "\n",
        "# ... (rest of your existing code)\n",
        "\n",
        "# ... (your existing code up to the point where you process images)\n",
        "\n",
        "image_dir = \"/content/images1/\"  # Replace with the actual path to your images directory\n",
        "prompt = \"Describe this image\" #Added a prompt variable\n",
        "i = 0\n",
        "\n",
        "if os.path.exists(image_dir):\n",
        "  for filename in os.listdir(image_dir):\n",
        "    print(filename)\n",
        "    try:\n",
        "      image = PIL.Image.open(os.path.join(image_dir, filename))\n",
        "      response = model.generate_content([prompt, image])\n",
        "      display(Markdown(\">\" + response.text)) # Use display for Markdown output\n",
        "    except Exception as e:\n",
        "      print(f\"Error processing {filename}: {e}\") # Handle potential errors\n",
        "\n",
        "else:\n",
        "  print(f\"Directory '{image_dir}' not found.\")"
      ],
      "metadata": {
        "id": "DrHV8goguClV",
        "outputId": "16d9f4eb-7a74-4d1a-b6dd-b93da47a7b55",
        "colab": {
          "base_uri": "https://localhost:8080/",
          "height": 1000
        }
      },
      "execution_count": 23,
      "outputs": [
        {
          "output_type": "stream",
          "name": "stdout",
          "text": [
            "2024-10-27 18_52_25-Elearning.jpg\n"
          ]
        },
        {
          "output_type": "display_data",
          "data": {
            "text/plain": [
              "<IPython.core.display.Markdown object>"
            ],
            "text/markdown": ">The image shows a matching exercise with four responses to an opportunity (A-D) and four possible actions to take (1-4). The correct answers are already marked. \n\nHere are the matches in the correct order:\n\n* **1. C:** Exploit the opportunity by eliminating uncertainty to ensure that it definitely occurs. \n* **2. A:** Enhance the opportunity by increasing the probability of it occurring and increasing its positive impact.\n* **3. D:** Share the opportunity by allying with an external party to increase the likelihood of securing benefits, and agreeing to share the rewards.\n* **4. B:** Simply accept the opportunity and do nothing, or have a contingency plan if it happens. \n"
          },
          "metadata": {}
        },
        {
          "output_type": "stream",
          "name": "stdout",
          "text": [
            "1725528634546.jpg\n"
          ]
        },
        {
          "output_type": "display_data",
          "data": {
            "text/plain": [
              "<IPython.core.display.Markdown object>"
            ],
            "text/markdown": ">The image presents a list of AI-powered tools categorized as \"PAID\" and \"FREE,\" aiming to aid users in various tasks. \n\n**PAID Tools:**\n\n* **Ideation:** ChatGPT 4\n* **Images:** Midjourney\n* **Notes:** Fireflies\n* **Video:** Runway\n* **Transcript:** Podium AI\n* **Speech-to-text:** Trint AI\n* **Shorts:** Opusclip\n* **Design:** Canva\n* **Writer:** ChatGPT 4 \n* **Avatar:** Synthesia\n\n**FREE Tools:**\n\n* **Ideation:** Claude AI\n* **Images:** Bing Create\n* **Notes:**  Laxis\n* **Video:** Pika Labs\n* **Transcript:** Auris AI\n* **Speech-to-text:** Audiopen\n* **Shorts:** 2Short AI\n* **Design:** Microsoft Designer\n* **Writer:** Writesonic\n* **Avatar:** Fotor\n\nThe image is created by Shruti Mishra and encourages users to follow her for a high-resolution PDF and exclusive access to her newsletter. \n"
          },
          "metadata": {}
        },
        {
          "output_type": "stream",
          "name": "stdout",
          "text": [
            "2024-10-27 18_16_16-Elearning.jpg\n"
          ]
        },
        {
          "output_type": "display_data",
          "data": {
            "text/plain": [
              "<IPython.core.display.Markdown object>"
            ],
            "text/markdown": ">The image presents a matching exercise. The goal is to connect examples of risk avoidance techniques to the specific technique they represent. Here's how the answers have been matched:\n\n* **A. Choose not to develop a new product similar to one a rival is about to release** - This matches to **C. Avoid the threat altogether** because by choosing not to develop the similar product, the company completely avoids the potential threat of competition. \n* **B. Acquire a company that produces a part on which your product depends to ensure a reliable supply** - This matches to **A. Eliminate the cause of the threat**. The threat is an unreliable supply chain. By acquiring the company that produces the part, the company eliminates that threat at its source.\n* **C. Remove a planned feature from a product to avoid a patent dispute** - This matches to **B. Adjust your plan to avoid the effects of the threat.** The potential patent dispute is the threat. By removing the feature, the company isn't eliminating the threat entirely, but adjusting their plan to avoid the negative effects of a potential lawsuit. \n"
          },
          "metadata": {}
        },
        {
          "output_type": "stream",
          "name": "stdout",
          "text": [
            "2024-10-27 18_20_34-Elearning.jpg\n"
          ]
        },
        {
          "output_type": "display_data",
          "data": {
            "text/plain": [
              "<IPython.core.display.Markdown object>"
            ],
            "text/markdown": ">The image is a matching question about responses to opportunities. \n\n**Left Column:** Four different potential responses to an opportunity, labeled A, B, C, and D.\n\n**Right Column:** Four different ways to categorize responses to an opportunity, labeled 1, 2, 3, and 4.\n\n**The Correct Matches Are:**\n\n* **D - 1:** Make the most of the opportunity by eliminating uncertainty.\n* **C - 2:** Enhance the opportunity by increasing its probability of occurring.\n* **A - 3:** Share the opportunity by partnering with an external party.\n* **B - 4:** Ignore the opportunity and do nothing. \n"
          },
          "metadata": {}
        },
        {
          "output_type": "stream",
          "name": "stdout",
          "text": [
            "2024-10-27 18_09_08-Elearning.jpg\n"
          ]
        },
        {
          "output_type": "display_data",
          "data": {
            "text/plain": [
              "<IPython.core.display.Markdown object>"
            ],
            "text/markdown": ">The image is a multiple choice question about risk mitigation. \n\n**Question:** Which statements are examples of mitigating a threat?\n\n**Correct Answers:** \n* Gather more user feedback data on your new product before it's launched\n* Choose a courier company that is rated highly for its ability to deliver on time\n\n**Incorrect Answers:**\n* Insist that an untested contractor issues a performance bond\n* Ensure your office has a backup server\n* Reduce the amount of documentation employees have to complete before a product can be shipped\n* Take out an insurance policy to protect your premises against flooding\n\n**Explanation of Correct Answers:**\n\n* **Gathering user feedback** before launching a product helps mitigate the risk of product failure due to lack of market need or poor design. \n* **Choosing a reliable courier company** mitigates the risk of late deliveries, which could damage customer relationships or result in financial penalties.\n\n**Explanation of Incorrect Answers:**\n\n* **An untested contractor issuing a performance bond** doesn't mitigate the risk of poor performance, it simply provides a financial safety net if they fail.\n* **Having a backup server** is a disaster recovery strategy, not a risk mitigation strategy. It helps recover from data loss, but doesn't prevent the data loss from happening in the first place.\n* **Reducing documentation** might improve efficiency but doesn't directly address any specific threat.\n* **Insurance** is a risk transfer mechanism, not mitigation. It shifts the financial burden of a loss to the insurer but doesn't prevent the loss from happening. \n"
          },
          "metadata": {}
        },
        {
          "output_type": "stream",
          "name": "stdout",
          "text": [
            "2024-10-27 18_54_42-Elearning.jpg\n"
          ]
        },
        {
          "output_type": "display_data",
          "data": {
            "text/plain": [
              "<IPython.core.display.Markdown object>"
            ],
            "text/markdown": ">The image is a multiple choice question about different types of threat acceptance. The question asks the reader to match four examples to either active acceptance or passive acceptance.\n\nThe answers are:\n* **A** Accept that bad weather is likely to reduce demand for your line of beachwear - **Active acceptance**\n* **B** Accept that a competitor may reduce the price of their rival product, but prepare a suitable response, including a budget for new commercials - **Both active and passive acceptance**\n* **C** Keep a regularly updated list of skilled contractors who might be able to provide cover if key employees are sick - **Active acceptance**\n* **D** Draw up a list of alternative sources you can draw on if your current suppliers increase their prices too steeply - **Active acceptance**\n"
          },
          "metadata": {}
        },
        {
          "output_type": "stream",
          "name": "stdout",
          "text": [
            "Azure-GCP-AWS.gif\n"
          ]
        },
        {
          "output_type": "display_data",
          "data": {
            "text/plain": [
              "<IPython.core.display.Markdown object>"
            ],
            "text/markdown": ">The image provides a comprehensive overview of data pipelines in three major cloud platforms: AWS, Microsoft Azure, and Google Cloud Platform (GCP). It's structured in a table format, with each column representing a stage in the data pipeline and each row illustrating how that stage is implemented in each cloud platform.\n\nHere's a breakdown of the information presented:\n\n**1. Stages of the Data Pipeline**\n\nThe image outlines four primary stages:\n\n* **Ingestion:** This stage involves collecting raw data from various sources.\n* **Data Lake:** This stage focuses on storing the raw data in a scalable and cost-effective manner.\n* **Preparation & Computation:** This stage deals with transforming, cleaning, and preparing the data for analysis. It also includes performing computations and extracting insights.\n* **Data Warehouse:** This stage involves storing the processed data in a structured format optimized for querying and reporting.\n* **Presentation:** This stage focuses on visualizing and communicating the analyzed data through dashboards, reports, and other means.\n\n**2. AWS (Amazon Web Services)**\n\n* **Ingestion:** AWS IoT, Lambda Function, Kinesis Streams/Firehose\n* **Data Lake:** Glacier, S3\n* **Preparation & Computation:** Glue ETL, Sage Maker, Kinesis Analytics\n* **Data Warehouse:** Redshift, RDS, Elastic Search, Dynamo DB, Glue Catalog, Kinesis Streams\n* **Presentation:** Athena (EDA), QuickSight, Lambda Function\n\n**3. Microsoft Azure**\n\n* **Ingestion:** Azure IoT Hub, Azure Function, Event Hub\n* **Data Lake:** Azure Data Lake Store\n* **Preparation & Computation:** Databricks, Data Explorer, Azure ML, Stream Analytics\n* **Data Warehouse:** Cosmos DB (SQL, Azure SQL, Redis Cache), Data Catalog, Event Hub\n* **Presentation:** Azure ML Designer/Studio (EDA), Power BI, Azure Function\n\n**4. Google Cloud Platform (GCP)**\n\n* **Ingestion:** Cloud IoT, Cloud Function, PubSub\n* **Data Lake:** Cloud Storage\n* **Preparation & Computation:** DataPrep, DataProc, Dataflow, AutoML\n* **Data Warehouse:** Cloud Datastore (Bigtable, Cloud SQL, BigQuery, Memory store), Data Catalog, PubSub\n* **Presentation:** Colab (EDA), Datalab, Data Studio, Cloud Function\n\n**Overall, the image provides a useful visual guide to understanding the different tools and services available for building data pipelines in AWS, Azure, and GCP.** It highlights the key components and their roles in each stage, allowing for a clear comparison of the approaches taken by these cloud providers.\n"
          },
          "metadata": {}
        },
        {
          "output_type": "stream",
          "name": "stdout",
          "text": [
            "2024-10-27 17_26_52-Elearning.jpg\n"
          ]
        },
        {
          "output_type": "display_data",
          "data": {
            "text/plain": [
              "<IPython.core.display.Markdown object>"
            ],
            "text/markdown": ">The image is a multiple-choice question about risk mitigation. The question asks: \"Which statements are examples of mitigating a threat?\". \n\nThe possible answers and their corresponding markings are:\n\n- **\"Ensure your manufacturing plant has a backup generator\"** (Incorrectly marked as wrong)\n- **\"Reduce the chain of command in your division\"** (Correctly marked as correct)\n- **\"Turn down a request by a journalist for an interview\"** (Unmarked)\n- **\"Choose a supplier who has won an award for outstanding service\"** (Correctly marked as correct)\n- **\"Invite a consumer panel to use a new product before it's launched\"** (Correctly marked as correct)\n- **\"Insist that a new piece of machinery comes with a guarantee\"** (Unmarked) \n"
          },
          "metadata": {}
        },
        {
          "output_type": "stream",
          "name": "stdout",
          "text": [
            "2024-10-27 18_51_28-Elearning.jpg\n"
          ]
        },
        {
          "output_type": "display_data",
          "data": {
            "text/plain": [
              "<IPython.core.display.Markdown object>"
            ],
            "text/markdown": ">The image is a multiple choice question about project management, specifically dealing with risk management and contingent response strategies.\n\n**Question:**\n\nA local supplier of specialized material for your project indicates there's a small risk it may have difficulty sourcing adequate supplies of the product in the future. \n\nWhich response to the risk illustrates the appropriate use of a contingent response strategy?\n\n**Answer Options:**\n\n* You put the project on hold until you have more information and release the team to work on other projects. \n* **(Correct Answer)** You find a company that guarantees to supply the specialized product whenever necessary, and you establish a reserve to cover the costs involved.\n* You plan ways to reduce the scope of your project, removing complex product features to enable the project to run with a smaller staff. \n* You accept the situation and decide to wait and see what happens.\n\n**The correct answer highlights a key element of a contingent response strategy: having a backup plan ready to implement if a potential risk becomes a reality.** In this case, securing an alternate supplier and budgeting for potential increased costs is a proactive approach to mitigate the risk of material shortages. \n"
          },
          "metadata": {}
        },
        {
          "output_type": "stream",
          "name": "stdout",
          "text": [
            "2024-10-27 18_56_35-Elearning.jpg\n"
          ]
        },
        {
          "output_type": "display_data",
          "data": {
            "text/plain": [
              "<IPython.core.display.Markdown object>"
            ],
            "text/markdown": ">The image shows a multiple-choice question about risk management. The question asks \"Which of these responses are examples of transferring risk?\" \n\nThe following responses are marked as correct:\n- Purchase an insurance policy to protect your delivery vehicles against damage or theft\n- Include financial penalties in a contract to guard against the problem of work not being completed to the required standard\n- Insist on getting a performance bond from an unreliable contractor\n- Ensure that you receive a warranty for the new ventilation system that is being installed\n\nThe following responses are not examples of transferring risk:\n- Ask a building maintenance contractor to make sure that their work meets the recommended environmental standards\n- Speak with other firms about their experience dealing with a contractor you are considering using \n"
          },
          "metadata": {}
        },
        {
          "output_type": "stream",
          "name": "stdout",
          "text": [
            "2024-10-27 18_50_14-Elearning.jpg\n"
          ]
        },
        {
          "output_type": "display_data",
          "data": {
            "text/plain": [
              "<IPython.core.display.Markdown object>"
            ],
            "text/markdown": ">The image presents a matching question related to avoidance techniques. The left column lists three examples, while the right column describes three avoidance techniques. The answers, marked with checkmarks, are as follows:\n\n- **A) Drop the proposed price of your new product to match your rival's price point** matches with **Adjust your plan to avoid the effects of the threat**.\n- **B) Deliver a proposal to an important new client yourself instead of relying on a delivery service** matches with **Eliminate the cause of the threat.**\n- **C) Decide not to open your own retail outlets for your products** matches with **Avoid the threat altogether**. \n"
          },
          "metadata": {}
        },
        {
          "output_type": "stream",
          "name": "stdout",
          "text": [
            "2024-10-27 17_23_15-Elearning.jpg\n"
          ]
        },
        {
          "output_type": "display_data",
          "data": {
            "text/plain": [
              "<IPython.core.display.Markdown object>"
            ],
            "text/markdown": ">The image shows a multiple choice question about risk management. The question asks \"Which of these responses are examples of transferring risk?\".\n\nThe possible answers, with the correct answers marked, are:\n\n- [✓] Insist that an unreliable contractor issues a performance bond.\n- [✓] Ensure your IT supplier provides you with a written warranty.\n- [>] Include financial penalties in a contract in case the work isn't completed to the required standard.\n- [x] Ask an administrator to organize and archive guarantees.\n- [✓] Purchase an insurance policy to protect your factory against flooding.\n- [ ] Terminate an existing contract and choose a better supplier. \n"
          },
          "metadata": {}
        },
        {
          "output_type": "stream",
          "name": "stdout",
          "text": [
            "2024-10-27 18_58_53-Elearning.jpg\n"
          ]
        },
        {
          "output_type": "display_data",
          "data": {
            "text/plain": [
              "<IPython.core.display.Markdown object>"
            ],
            "text/markdown": ">The image is a multiple-choice question about mitigating threats. The question is: \n\n**Which statements are examples of mitigating a threat?**\n\nThe correct answers, marked with green checkmarks, are:\n\n* **Reduce the amount of documentation employees have to complete before a product can be shipped**\n* **Choose a courier company that is rated highly for its ability to deliver on time**\n* **Gather more user feedback data on your new product before it's launched**\n* **Ensure your office has a backup server**\n\nThe incorrect answers, marked with empty checkboxes, are:\n\n* **Take out an insurance policy to protect your premises against flooding**\n* **Insist that an untested contractor issues a performance bond** \n"
          },
          "metadata": {}
        },
        {
          "output_type": "stream",
          "name": "stdout",
          "text": [
            "2024-10-27 17_30_31-Elearning.jpg\n"
          ]
        },
        {
          "output_type": "display_data",
          "data": {
            "text/plain": [
              "<IPython.core.display.Markdown object>"
            ],
            "text/markdown": ">The image shows a partially completed matching exercise. The question asks the user to match examples of passive and active acceptance to their definitions. \n\nHere is the breakdown:\n\n**Question:**\n\nMatch each example to the type of threat acceptance it represents. Each type of acceptance can have more than one match.\n\n**Definitions:**\n\n* **Passive Acceptance:**  Accepting a risk and choosing to take no action to mitigate it. You acknowledge the risk but don't proactively plan for it.\n* **Active Acceptance:** Accepting a risk and taking specific steps to acknowledge and monitor it. You may also create contingency plans.\n\n**Examples and Answers:**\n\n* **A. Accept some key workers may decide to leave, at which point you can try to find suitable replacements:** This is an example of **passive acceptance**. The risk (workers leaving) is acknowledged, but the plan is to react only *after* it happens. This example is correctly matched in the image.\n* **B. Make a list of contractors you can call on in the event that your workers decide to strike, and budget for the services of those contractors:** This is an example of **active acceptance**. There's a proactive plan in place (a list of contractors and a budget) to address the risk (workers striking). This example is correctly matched in the image.\n* **C. Accept construction is going to impact your deliveries, but plot alternate routes and inform customers about the delays:** This is an example of **active acceptance**. There's a proactive plan to mitigate the impact of the construction (alternate routes and customer communication). This example is not matched in the image.\n* **D. Recognize bad weather is likely to impact some public events you'd been planning to promote a new product:** This example is **unmatched** in the image. It would be considered **passive acceptance** as there's no indication of a plan to address the potential impact of bad weather.\n\n**In summary, the image accurately reflects the matching of examples A and B, but example C should be placed under \"Active Acceptance\" and example D should be placed under \"Passive Acceptance.\"** \n"
          },
          "metadata": {}
        },
        {
          "output_type": "stream",
          "name": "stdout",
          "text": [
            "2024-10-27 18_23_03-Elearning.jpg\n"
          ]
        },
        {
          "output_type": "display_data",
          "data": {
            "text/plain": [
              "<IPython.core.display.Markdown object>"
            ],
            "text/markdown": ">The image is a multiple choice question about risk management. The question asks \"Which of these responses are examples of transferring risk?\"\n\nHere are the answer choices with the correct answers indicated:\n\n* **Incorrect:** Bring deliveries in-house to avoid delays and misdeliveries associated with using couriers \n* **Correct:** Build financial penalties into a contract in case the work isn't finished to the required standard\n* **Correct:** Require a supplier to guarantee that their products will last 10 years or they will replace them at no cost\n* **Incorrect:** Hire a new cleaning company to improve the standard of cleaning in your office\n* **Correct:** Take out an insurance policy to protect your facilities against flooding\n* **Correct:** Insist that an untested contractor issues a performance bond \n\n**Key Takeaway:**  Transferring risk involves shifting the responsibility (and potential financial burden) of a risk to a third party. This is commonly seen in insurance policies, contractual guarantees, and performance bonds. \n"
          },
          "metadata": {}
        },
        {
          "output_type": "stream",
          "name": "stdout",
          "text": [
            "2024-10-27 17_20_16-Elearning.jpg\n"
          ]
        },
        {
          "output_type": "display_data",
          "data": {
            "text/plain": [
              "<IPython.core.display.Markdown object>"
            ],
            "text/markdown": ">The image is a screenshot of a multiple choice question about risk management techniques, specifically focusing on avoidance techniques. \n\nThe question asks to match examples to the avoidance technique they best represent. The provided examples (left side) and techniques (right side) are:\n\n**Examples:**\nA. Revise an order to ensure all items can be delivered within 24 hours\nB. Decide not to make a presentation\nC. Ensure team members are paid competitive rates\n\n**Techniques:**\nA. Avoid the threat altogether\nB. Adjust your plan to avoid the effects of the threat\nC. Eliminate the cause of the threat\n\nThe screenshot shows the attempted answers. However, they are incorrect. The correct pairings would be:\n\n* **A. Revise an order to ensure all items can be delivered within 24 hours  --  B. Adjust your plan to avoid the effects of the threat**\n* **B. Decide not to make a presentation  -- A. Avoid the threat altogether**\n* **C. Ensure team members are paid competitive rates  -- C. Eliminate the cause of the threat** \n"
          },
          "metadata": {}
        },
        {
          "output_type": "stream",
          "name": "stdout",
          "text": [
            "2024-10-27 18_24_53-Elearning.jpg\n"
          ]
        },
        {
          "output_type": "display_data",
          "data": {
            "text/plain": [
              "<IPython.core.display.Markdown object>"
            ],
            "text/markdown": ">The image is a question about active and passive acceptance, presented as a matching exercise. It lists four different scenarios and asks the reader to classify them as examples of active or passive acceptance.\n\n**The scenarios are:**\n\n* **A:** Accept that some veteran employees will leave or retire, at which point you can begin looking for suitable replacements.\n* **B:** Prepare a marketing budget to counter any new publicity drive by a competitor.\n* **C:** Draw up a list of alternate suppliers in case any current supplier is unable to deliver.\n* **D:** Accept that bad weather is likely to slow down construction of your new office building.\n\n**The answer choices are:**\n\n* **Active Acceptance:** B and C are marked as correct\n* **Passive Acceptance:** D is marked as correct, with space for one more answer\n\n**Analysis of the Answers:**\n\n* **Active acceptance** involves taking preemptive action to mitigate the impact of a potential threat. Options B and C exemplify this by outlining steps taken in anticipation of possible events (competitor's marketing and supplier failure). \n* **Passive acceptance** means acknowledging a potential risk without actively preparing for it. Option D demonstrates this by acknowledging the potential delay due to weather without suggesting any mitigating actions.\n\nThe image is missing one correct answer for \"Passive Acceptance.\" Option A, accepting employee turnover and planning to find replacements *only when it happens*, would be the other example of passive acceptance. \n"
          },
          "metadata": {}
        },
        {
          "output_type": "stream",
          "name": "stdout",
          "text": [
            "2024-10-27 17_35_47-Elearning.jpg\n"
          ]
        },
        {
          "output_type": "display_data",
          "data": {
            "text/plain": [
              "<IPython.core.display.Markdown object>"
            ],
            "text/markdown": ">The image presents a matching exercise where the task is to correctly order responses to a business opportunity.\n\n**Left Side:**\n\nFour potential responses to a business opportunity are listed (A-D):\n\nA. Acquire a struggling competitor to ensure market dominance.\nB. Ensure a competitive bid price and plan for capacity expansion.\nC. Partner with another company to enhance chances of winning a contract.\nD. Agree to a client's proposal to provide helpdesk service.\n\n**Right Side:**\n\nThe correctly ordered responses (1-4) are:\n\n1. Acquire a struggling competitor (corresponds to option A on the left).\n2. Ensure competitive bid price and capacity planning (corresponds to option B on the left).\n3. Partner with another company (corresponds to option C on the left).\n4. Agree to a client's proposal (corresponds to option D on the left).\n\n**Solution:**\n\nThe lines and markings connect the options from the left side to their corresponding correct order on the right side, visually representing the solution to the matching exercise. \n"
          },
          "metadata": {}
        }
      ]
    },
    {
      "cell_type": "code",
      "source": [],
      "metadata": {
        "id": "DHNq6Va3umYp"
      },
      "execution_count": null,
      "outputs": []
    },
    {
      "cell_type": "code",
      "source": [],
      "metadata": {
        "id": "_mooBZj2umSs"
      },
      "execution_count": null,
      "outputs": []
    },
    {
      "cell_type": "code",
      "source": [],
      "metadata": {
        "id": "iQYqIqGtumO4"
      },
      "execution_count": null,
      "outputs": []
    },
    {
      "cell_type": "code",
      "source": [],
      "metadata": {
        "id": "a6CGJ8E_umLd"
      },
      "execution_count": null,
      "outputs": []
    },
    {
      "cell_type": "code",
      "source": [],
      "metadata": {
        "id": "8BK_jDrBumIR"
      },
      "execution_count": null,
      "outputs": []
    },
    {
      "cell_type": "code",
      "source": [
        "# Choose a Gemini model.\n",
        "model = genai.GenerativeModel(model_name=\"gemini-1.5-pro-latest\")\n",
        "\n",
        "prompt = \"Extract the text from the image.\"\n",
        "\n",
        "response = model.generate_content([prompt,  sample_file4])\n",
        "\n",
        "Markdown(\">\" + response.text)"
      ],
      "metadata": {
        "id": "4KdqUBw6rabJ",
        "outputId": "41bbd412-e9b1-4cf6-e302-7997ac2053d6",
        "colab": {
          "base_uri": "https://localhost:8080/",
          "height": 144
        }
      },
      "execution_count": 10,
      "outputs": [
        {
          "output_type": "execute_result",
          "data": {
            "text/plain": [
              "<IPython.core.display.Markdown object>"
            ],
            "text/markdown": ">**What is the role of GenAI in \"augmentation\" for project management?**\n\n*Select the best answer below, then click submit.*\n\n- Aids in complex, strategic tasks by providing deep insights and supporting decision-making\n- Performing simple, routine tasks that require little to no strategic thought\n- Replacing project managers in decision-making processes \n"
          },
          "metadata": {},
          "execution_count": 10
        }
      ]
    },
    {
      "cell_type": "code",
      "execution_count": null,
      "metadata": {
        "id": "XzMhQ8MWub5_"
      },
      "outputs": [],
      "source": [
        "import PIL.Image\n",
        "\n",
        "sample_file_2 = PIL.Image.open('piranha.jpg')\n",
        "sample_file_3 = PIL.Image.open('firefighter.jpg')"
      ]
    },
    {
      "cell_type": "markdown",
      "metadata": {
        "id": "F2N5bLR7wlqL"
      },
      "source": [
        "Note that these inline data calls don't include many of the features available via the File API, such as getting file metadata, [listing](https://colab.research.google.com/drive/19xeyIMZJIk7Zn9KW5_50iZYv8OfjApL5?resourcekey=0-3JZ6U8oAFX7hqeV7gAXshw#scrollTo=VosrkvAyrx-v&line=3&uniqifier=1), or [deleting](https://colab.research.google.com/drive/19xeyIMZJIk7Zn9KW5_50iZYv8OfjApL5?resourcekey=0-3JZ6U8oAFX7hqeV7gAXshw#scrollTo=diCy9BgjLqeS&line=1&uniqifier=1) files."
      ]
    },
    {
      "cell_type": "markdown",
      "metadata": {
        "id": "X3pl7mWgwt6Q"
      },
      "source": [
        "### Prompt with multiple images\n",
        "\n",
        "You can provide the Gemini API with any combination of images and text that fit within the model's context window. This example provides one short text prompt and the three images previously uploaded."
      ]
    },
    {
      "cell_type": "code",
      "execution_count": null,
      "metadata": {
        "id": "Ou5IVsybcOys"
      },
      "outputs": [],
      "source": [
        "# Choose a Gemini model.\n",
        "model = genai.GenerativeModel(model_name=\"gemini-1.5-pro-latest\")\n",
        "\n",
        "prompt = \"Write an advertising jingle showing how the product in the first image could solve the problems shown in the second two images.\"\n",
        "\n",
        "response = model.generate_content([prompt, sample_file, sample_file_2, sample_file_3])\n",
        "\n",
        "Markdown(\">\" + response.text)"
      ]
    },
    {
      "cell_type": "markdown",
      "metadata": {
        "id": "7e16d742407a"
      },
      "source": [
        "### Get bounding boxes\n",
        "\n",
        "You can ask the model for the coordinates of bounding boxes for objects in images. For object detection, the Gemini model has been trained to provide\n",
        "these coordinates as relative widths or heights in range `[0,1]`, scaled by 1000 and converted to an integer. Effectively, the coordinates given are for a\n",
        "1000x1000 version of the original image, and need to be converted back to the dimensions of the original image."
      ]
    },
    {
      "cell_type": "code",
      "execution_count": null,
      "metadata": {
        "id": "778dd36334f4"
      },
      "outputs": [],
      "source": [
        "# Choose a Gemini model.\n",
        "model = genai.GenerativeModel(model_name=\"gemini-1.5-pro-latest\")\n",
        "\n",
        "prompt = \"Return a bounding box for the piranha. \\n [ymin, xmin, ymax, xmax]\"\n",
        "response = model.generate_content([sample_file_2, prompt])\n",
        "\n",
        "print(response.text)"
      ]
    },
    {
      "cell_type": "markdown",
      "metadata": {
        "id": "b8e422c55df2"
      },
      "source": [
        "To convert these coordinates to the dimensions of the original image:\n",
        "\n",
        "1.    Divide each output coordinate by 1000.\n",
        "1.    Multiply the x-coordinates by the original image width.\n",
        "1.    Multiply the y-coordinates by the original image height."
      ]
    },
    {
      "cell_type": "markdown",
      "metadata": {
        "id": "TaUZc1mvLkHY"
      },
      "source": [
        "## Prompting with video\n",
        "\n",
        "In this tutorial, you will upload a video using the File API and generate content based on those images."
      ]
    },
    {
      "cell_type": "markdown",
      "metadata": {
        "id": "nDN32NDPxXGX"
      },
      "source": [
        "## Technical details (video)\n",
        "\n",
        "Gemini 1.5 Pro and Flash support up to approximately an hour of video data.\n",
        "\n",
        "Video must be in one of the following video format [MIME types](https://developers.google.com/drive/api/guides/ref-export-formats):\n",
        "  -   `video/mp4`\n",
        "  -   `video/mpeg`\n",
        "  -   `video/mov`\n",
        "  -   `video/avi`\n",
        "  -   `video/x-flv`\n",
        "  -   `video/mpg`\n",
        "  -   `video/webm`\n",
        "  -   `video/wmv`\n",
        "  -   `video/3gpp`\n",
        "\n",
        "The File API service currently extracts image frames from videos at 1 frame per second (FPS) and audio at 1Kbps, single channel, adding timestamps every second. These rates are subject to change in the future for improvements in inference.\n",
        "\n",
        "**NOTE:** The finer details of fast action sequences may be lost at the 1 FPS frame sampling rate. Consider slowing down high-speed clips for improved inference quality.\n",
        "\n",
        "Individual frames are 258 tokens, and audio is 32 tokens per second. With metadata, each second of video becomes ~300 tokens, which means a 1M context window can fit slightly less than an hour of video.\n",
        "\n",
        "To ask questions about time-stamped locations, use the format `MM:SS`, where the first two digits represent minutes and the last two digits represent seconds.\n",
        "\n",
        "For best results:\n",
        "\n",
        "*   Use one video per prompt.\n",
        "*   If using a single video, place the text prompt after the video."
      ]
    },
    {
      "cell_type": "markdown",
      "metadata": {
        "id": "MNvhBdoDFnTC"
      },
      "source": [
        "### Upload a video file to the File API\n",
        "\n",
        "**NOTE**: The File API lets you store up to 20 GB of files per project, with a per-file maximum size of 2 GB. Files are stored for 48 hours. They can be accessed in that period with your API key, but they cannot be downloaded using any API. It is available at no cost in all regions where the Gemini API is available.\n",
        "\n",
        "The File API accepts video file formats directly. This example uses the short NASA film [\"Jupiter's Great Red Spot Shrinks and Grows\"](https://www.youtube.com/watch?v=JDi4IdtvDVE0). Credit: Goddard Space Flight Center (GSFC)/David Ladd (2018).\n",
        "\n",
        "> \"Jupiter's Great Red Spot Shrinks and Grows\" is in the public domain and does not show identifiable people. ([NASA image and media usage guidelines.](https://www.nasa.gov/nasa-brand-center/images-and-media/))\n",
        "\n",
        "Start by retrieving the short video:"
      ]
    },
    {
      "cell_type": "code",
      "execution_count": null,
      "metadata": {
        "id": "V4XeFdX1rxaE"
      },
      "outputs": [],
      "source": [
        "!wget https://storage.googleapis.com/generativeai-downloads/images/GreatRedSpot.mp4"
      ]
    },
    {
      "cell_type": "markdown",
      "metadata": {
        "id": "ZusSiIg2T6ls"
      },
      "source": [
        "Upload the video to the File API and print the URI."
      ]
    },
    {
      "cell_type": "code",
      "execution_count": null,
      "metadata": {
        "id": "_HzrDdp2Q1Cu"
      },
      "outputs": [],
      "source": [
        "video_file_name = \"GreatRedSpot.mp4\"\n",
        "\n",
        "print(f\"Uploading file...\")\n",
        "video_file = genai.upload_file(path=video_file_name)\n",
        "print(f\"Completed upload: {video_file.uri}\")"
      ]
    },
    {
      "cell_type": "markdown",
      "metadata": {
        "id": "oOZmTUb4FWOa"
      },
      "source": [
        "### Verify file upload and check state\n",
        "\n",
        "Verify the API has successfully received the files by calling the [`files.get`](https://ai.google.dev/api/rest/v1beta/files/get) method.\n",
        "\n",
        "**NOTE**: Video files have a `State` field in the File API. When a video is uploaded, it will be in the `PROCESSING` state until it is ready for inference. Only `ACTIVE` files can be used for model inference."
      ]
    },
    {
      "cell_type": "code",
      "execution_count": null,
      "metadata": {
        "id": "SHMVCWHkFhJW"
      },
      "outputs": [],
      "source": [
        "import time\n",
        "\n",
        "# Check whether the file is ready to be used.\n",
        "while video_file.state.name == \"PROCESSING\":\n",
        "    print('.', end='')\n",
        "    time.sleep(10)\n",
        "    video_file = genai.get_file(video_file.name)\n",
        "\n",
        "if video_file.state.name == \"FAILED\":\n",
        "  raise ValueError(video_file.state.name)"
      ]
    },
    {
      "cell_type": "markdown",
      "metadata": {
        "id": "IYIIHsvQt0_W"
      },
      "source": [
        "### Prompt with a video and text\n",
        "\n",
        "Once the uploaded video is in the `ACTIVE` state, you can make `GenerateContent` requests that specify the File API URI for that video. Select the generative model and provide it with the uploaded video and a text prompt."
      ]
    },
    {
      "cell_type": "code",
      "execution_count": null,
      "metadata": {
        "id": "sHH0ZR6Yt42S"
      },
      "outputs": [],
      "source": [
        "# Create the prompt.\n",
        "prompt = \"Summarize this video. Then create a quiz with answer key based on the information in the video.\"\n",
        "\n",
        "# Choose a Gemini model.\n",
        "model = genai.GenerativeModel(model_name=\"gemini-1.5-pro-latest\")\n",
        "\n",
        "# Make the LLM request.\n",
        "print(\"Making LLM inference request...\")\n",
        "response = model.generate_content([video_file, prompt],\n",
        "                                  request_options={\"timeout\": 600})\n",
        "\n",
        "# Print the response, rendering any Markdown\n",
        "Markdown(response.text)"
      ]
    },
    {
      "cell_type": "markdown",
      "metadata": {
        "id": "zS5NmQeXLqeS"
      },
      "source": [
        "### Refer to timestamps in the content\n",
        "\n",
        "You can use timestamps of the form `MM:SS` to refer to specific moments in the video."
      ]
    },
    {
      "cell_type": "code",
      "execution_count": null,
      "metadata": {
        "id": "ypZuGQ-2LqeS"
      },
      "outputs": [],
      "source": [
        "# Create the prompt.\n",
        "prompt = \"What are the examples given at 01:05 and 01:19 supposed to show us?\"\n",
        "\n",
        "# Choose a Gemini model.\n",
        "model = genai.GenerativeModel(model_name=\"gemini-1.5-pro-latest\")\n",
        "\n",
        "# Make the LLM request.\n",
        "print(\"Making LLM inference request...\")\n",
        "response = model.generate_content([prompt, video_file],\n",
        "                                  request_options={\"timeout\": 600})\n",
        "print(response.text)"
      ]
    },
    {
      "cell_type": "markdown",
      "metadata": {
        "id": "JQE0XjgMZSJo"
      },
      "source": [
        "### Transcribe video and provide visual descriptions\n",
        "\n",
        "If the video is not fast-paced (given that frames are sampled at 1 per second), it's possible to transcribe the video with visual descriptions for each shot."
      ]
    },
    {
      "cell_type": "code",
      "execution_count": null,
      "metadata": {
        "id": "_JrcMsYnYXpJ"
      },
      "outputs": [],
      "source": [
        "# Create the prompt.\n",
        "prompt = \"Transcribe the audio, giving timestamps. Also provide visual descriptions.\"\n",
        "\n",
        "# Choose a Gemini model.\n",
        "model = genai.GenerativeModel(model_name=\"gemini-1.5-pro-latest\")\n",
        "\n",
        "# Make the LLM request.\n",
        "print(\"Making LLM inference request...\")\n",
        "response = model.generate_content([prompt, video_file],\n",
        "                                  request_options={\"timeout\": 600})\n",
        "print(response.text)"
      ]
    },
    {
      "cell_type": "markdown",
      "metadata": {
        "id": "VosrkvAyrx-v"
      },
      "source": [
        "## List files\n",
        "\n",
        "You can list all uploaded files and their URIs using `files.list_files()`."
      ]
    },
    {
      "cell_type": "code",
      "execution_count": null,
      "metadata": {
        "id": "O82e6E2Irzlj"
      },
      "outputs": [],
      "source": [
        "# List all files\n",
        "for file in genai.list_files():\n",
        "    print(f\"{file.display_name}, URI: {file.uri}\")"
      ]
    },
    {
      "cell_type": "markdown",
      "metadata": {
        "id": "diCy9BgjLqeS"
      },
      "source": [
        "## Delete files\n",
        "\n",
        "Files are automatically deleted after 2 days. You can also manually delete them using `files.delete()`."
      ]
    },
    {
      "cell_type": "code",
      "execution_count": null,
      "metadata": {
        "id": "YYyi5PrKLqeb"
      },
      "outputs": [],
      "source": [
        "genai.delete_file(video_file.name)\n",
        "print(f'Deleted file {video_file.uri}')"
      ]
    }
  ],
  "metadata": {
    "colab": {
      "name": "vision.ipynb",
      "provenance": []
    },
    "kernelspec": {
      "display_name": "Python 3",
      "name": "python3"
    }
  },
  "nbformat": 4,
  "nbformat_minor": 0
}