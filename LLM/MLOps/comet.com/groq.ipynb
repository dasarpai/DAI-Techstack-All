{
  "cells": [
    {
      "cell_type": "markdown",
      "metadata": {
        "id": "JO6GYgzu9XcT"
      },
      "source": [
        "# Using Opik with Groq\n",
        "\n",
        "Opik integrates with Groq to provide a simple way to log traces for all Groq LLM calls. This works for all Groq models."
      ]
    },
    {
      "cell_type": "markdown",
      "metadata": {
        "id": "48hbHGVY9XcZ"
      },
      "source": [
        "## Creating an account on Comet.com\n",
        "\n",
        "[Comet](https://www.comet.com/site?from=llm&utm_source=opik&utm_medium=colab&utm_content=openai&utm_campaign=opik) provides a hosted version of the Opik platform, [simply create an account](https://www.comet.com/signup?from=llm&utm_source=opik&utm_medium=colab&utm_content=openai&utm_campaign=opik) and grab you API Key.\n",
        "\n",
        "> You can also run the Opik platform locally, see the [installation guide](https://www.comet.com/docs/opik/self-host/overview/?from=llm&utm_source=opik&utm_medium=colab&utm_content=openai&utm_campaign=opik) for more information."
      ]
    },
    {
      "cell_type": "code",
      "execution_count": 1,
      "metadata": {
        "id": "9cDnxWWx9Xch",
        "outputId": "bc724c24-df35-4b4f-c68b-fe24d5261c11",
        "colab": {
          "base_uri": "https://localhost:8080/"
        }
      },
      "outputs": [
        {
          "output_type": "stream",
          "name": "stdout",
          "text": [
            "Collecting opik\n",
            "  Downloading opik-1.0.5-py3-none-any.whl.metadata (16 kB)\n",
            "Collecting litellm\n",
            "  Downloading litellm-1.52.0-py3-none-any.whl.metadata (32 kB)\n",
            "Requirement already satisfied: click in /usr/local/lib/python3.10/dist-packages (from opik) (8.1.7)\n",
            "Requirement already satisfied: httpx<1.0.0 in /usr/local/lib/python3.10/dist-packages (from opik) (0.27.2)\n",
            "Collecting levenshtein~=0.25.1 (from opik)\n",
            "  Downloading Levenshtein-0.25.1-cp310-cp310-manylinux_2_17_x86_64.manylinux2014_x86_64.whl.metadata (3.3 kB)\n",
            "Requirement already satisfied: openai<2.0.0 in /usr/local/lib/python3.10/dist-packages (from opik) (1.52.2)\n",
            "Requirement already satisfied: pandas<3.0.0,>=2.0.0 in /usr/local/lib/python3.10/dist-packages (from opik) (2.2.2)\n",
            "Collecting pydantic-settings<3.0.0,>=2.0.0 (from opik)\n",
            "  Downloading pydantic_settings-2.6.1-py3-none-any.whl.metadata (3.5 kB)\n",
            "Requirement already satisfied: pydantic<3.0.0,>=2.0.0 in /usr/local/lib/python3.10/dist-packages (from opik) (2.9.2)\n",
            "Requirement already satisfied: pytest in /usr/local/lib/python3.10/dist-packages (from opik) (7.4.4)\n",
            "Requirement already satisfied: rich in /usr/local/lib/python3.10/dist-packages (from opik) (13.9.3)\n",
            "Requirement already satisfied: tqdm in /usr/local/lib/python3.10/dist-packages (from opik) (4.66.6)\n",
            "Collecting uuid7<1.0.0 (from opik)\n",
            "  Downloading uuid7-0.1.0-py2.py3-none-any.whl.metadata (3.6 kB)\n",
            "Requirement already satisfied: aiohttp in /usr/local/lib/python3.10/dist-packages (from litellm) (3.10.10)\n",
            "Requirement already satisfied: importlib-metadata>=6.8.0 in /usr/local/lib/python3.10/dist-packages (from litellm) (8.5.0)\n",
            "Requirement already satisfied: jinja2<4.0.0,>=3.1.2 in /usr/local/lib/python3.10/dist-packages (from litellm) (3.1.4)\n",
            "Requirement already satisfied: jsonschema<5.0.0,>=4.22.0 in /usr/local/lib/python3.10/dist-packages (from litellm) (4.23.0)\n",
            "Collecting openai<2.0.0 (from opik)\n",
            "  Downloading openai-1.54.1-py3-none-any.whl.metadata (24 kB)\n",
            "Collecting python-dotenv>=0.2.0 (from litellm)\n",
            "  Downloading python_dotenv-1.0.1-py3-none-any.whl.metadata (23 kB)\n",
            "Requirement already satisfied: requests<3.0.0,>=2.31.0 in /usr/local/lib/python3.10/dist-packages (from litellm) (2.32.3)\n",
            "Collecting tiktoken>=0.7.0 (from litellm)\n",
            "  Downloading tiktoken-0.8.0-cp310-cp310-manylinux_2_17_x86_64.manylinux2014_x86_64.whl.metadata (6.6 kB)\n",
            "Requirement already satisfied: tokenizers in /usr/local/lib/python3.10/dist-packages (from litellm) (0.19.1)\n",
            "Requirement already satisfied: anyio in /usr/local/lib/python3.10/dist-packages (from httpx<1.0.0->opik) (3.7.1)\n",
            "Requirement already satisfied: certifi in /usr/local/lib/python3.10/dist-packages (from httpx<1.0.0->opik) (2024.8.30)\n",
            "Requirement already satisfied: httpcore==1.* in /usr/local/lib/python3.10/dist-packages (from httpx<1.0.0->opik) (1.0.6)\n",
            "Requirement already satisfied: idna in /usr/local/lib/python3.10/dist-packages (from httpx<1.0.0->opik) (3.10)\n",
            "Requirement already satisfied: sniffio in /usr/local/lib/python3.10/dist-packages (from httpx<1.0.0->opik) (1.3.1)\n",
            "Requirement already satisfied: h11<0.15,>=0.13 in /usr/local/lib/python3.10/dist-packages (from httpcore==1.*->httpx<1.0.0->opik) (0.14.0)\n",
            "Requirement already satisfied: zipp>=3.20 in /usr/local/lib/python3.10/dist-packages (from importlib-metadata>=6.8.0->litellm) (3.20.2)\n",
            "Requirement already satisfied: MarkupSafe>=2.0 in /usr/local/lib/python3.10/dist-packages (from jinja2<4.0.0,>=3.1.2->litellm) (3.0.2)\n",
            "Requirement already satisfied: attrs>=22.2.0 in /usr/local/lib/python3.10/dist-packages (from jsonschema<5.0.0,>=4.22.0->litellm) (24.2.0)\n",
            "Requirement already satisfied: jsonschema-specifications>=2023.03.6 in /usr/local/lib/python3.10/dist-packages (from jsonschema<5.0.0,>=4.22.0->litellm) (2024.10.1)\n",
            "Requirement already satisfied: referencing>=0.28.4 in /usr/local/lib/python3.10/dist-packages (from jsonschema<5.0.0,>=4.22.0->litellm) (0.35.1)\n",
            "Requirement already satisfied: rpds-py>=0.7.1 in /usr/local/lib/python3.10/dist-packages (from jsonschema<5.0.0,>=4.22.0->litellm) (0.20.0)\n",
            "Collecting rapidfuzz<4.0.0,>=3.8.0 (from levenshtein~=0.25.1->opik)\n",
            "  Downloading rapidfuzz-3.10.1-cp310-cp310-manylinux_2_17_x86_64.manylinux2014_x86_64.whl.metadata (11 kB)\n",
            "Requirement already satisfied: distro<2,>=1.7.0 in /usr/local/lib/python3.10/dist-packages (from openai<2.0.0->opik) (1.9.0)\n",
            "Requirement already satisfied: jiter<1,>=0.4.0 in /usr/local/lib/python3.10/dist-packages (from openai<2.0.0->opik) (0.6.1)\n",
            "Requirement already satisfied: typing-extensions<5,>=4.11 in /usr/local/lib/python3.10/dist-packages (from openai<2.0.0->opik) (4.12.2)\n",
            "Requirement already satisfied: numpy>=1.22.4 in /usr/local/lib/python3.10/dist-packages (from pandas<3.0.0,>=2.0.0->opik) (1.26.4)\n",
            "Requirement already satisfied: python-dateutil>=2.8.2 in /usr/local/lib/python3.10/dist-packages (from pandas<3.0.0,>=2.0.0->opik) (2.8.2)\n",
            "Requirement already satisfied: pytz>=2020.1 in /usr/local/lib/python3.10/dist-packages (from pandas<3.0.0,>=2.0.0->opik) (2024.2)\n",
            "Requirement already satisfied: tzdata>=2022.7 in /usr/local/lib/python3.10/dist-packages (from pandas<3.0.0,>=2.0.0->opik) (2024.2)\n",
            "Requirement already satisfied: annotated-types>=0.6.0 in /usr/local/lib/python3.10/dist-packages (from pydantic<3.0.0,>=2.0.0->opik) (0.7.0)\n",
            "Requirement already satisfied: pydantic-core==2.23.4 in /usr/local/lib/python3.10/dist-packages (from pydantic<3.0.0,>=2.0.0->opik) (2.23.4)\n",
            "Requirement already satisfied: charset-normalizer<4,>=2 in /usr/local/lib/python3.10/dist-packages (from requests<3.0.0,>=2.31.0->litellm) (3.4.0)\n",
            "Requirement already satisfied: urllib3<3,>=1.21.1 in /usr/local/lib/python3.10/dist-packages (from requests<3.0.0,>=2.31.0->litellm) (2.2.3)\n",
            "Requirement already satisfied: regex>=2022.1.18 in /usr/local/lib/python3.10/dist-packages (from tiktoken>=0.7.0->litellm) (2024.9.11)\n",
            "Requirement already satisfied: aiohappyeyeballs>=2.3.0 in /usr/local/lib/python3.10/dist-packages (from aiohttp->litellm) (2.4.3)\n",
            "Requirement already satisfied: aiosignal>=1.1.2 in /usr/local/lib/python3.10/dist-packages (from aiohttp->litellm) (1.3.1)\n",
            "Requirement already satisfied: frozenlist>=1.1.1 in /usr/local/lib/python3.10/dist-packages (from aiohttp->litellm) (1.5.0)\n",
            "Requirement already satisfied: multidict<7.0,>=4.5 in /usr/local/lib/python3.10/dist-packages (from aiohttp->litellm) (6.1.0)\n",
            "Requirement already satisfied: yarl<2.0,>=1.12.0 in /usr/local/lib/python3.10/dist-packages (from aiohttp->litellm) (1.17.0)\n",
            "Requirement already satisfied: async-timeout<5.0,>=4.0 in /usr/local/lib/python3.10/dist-packages (from aiohttp->litellm) (4.0.3)\n",
            "Requirement already satisfied: iniconfig in /usr/local/lib/python3.10/dist-packages (from pytest->opik) (2.0.0)\n",
            "Requirement already satisfied: packaging in /usr/local/lib/python3.10/dist-packages (from pytest->opik) (24.1)\n",
            "Requirement already satisfied: pluggy<2.0,>=0.12 in /usr/local/lib/python3.10/dist-packages (from pytest->opik) (1.5.0)\n",
            "Requirement already satisfied: exceptiongroup>=1.0.0rc8 in /usr/local/lib/python3.10/dist-packages (from pytest->opik) (1.2.2)\n",
            "Requirement already satisfied: tomli>=1.0.0 in /usr/local/lib/python3.10/dist-packages (from pytest->opik) (2.0.2)\n",
            "Requirement already satisfied: markdown-it-py>=2.2.0 in /usr/local/lib/python3.10/dist-packages (from rich->opik) (3.0.0)\n",
            "Requirement already satisfied: pygments<3.0.0,>=2.13.0 in /usr/local/lib/python3.10/dist-packages (from rich->opik) (2.18.0)\n",
            "Requirement already satisfied: huggingface-hub<1.0,>=0.16.4 in /usr/local/lib/python3.10/dist-packages (from tokenizers->litellm) (0.24.7)\n",
            "Requirement already satisfied: filelock in /usr/local/lib/python3.10/dist-packages (from huggingface-hub<1.0,>=0.16.4->tokenizers->litellm) (3.16.1)\n",
            "Requirement already satisfied: fsspec>=2023.5.0 in /usr/local/lib/python3.10/dist-packages (from huggingface-hub<1.0,>=0.16.4->tokenizers->litellm) (2024.10.0)\n",
            "Requirement already satisfied: pyyaml>=5.1 in /usr/local/lib/python3.10/dist-packages (from huggingface-hub<1.0,>=0.16.4->tokenizers->litellm) (6.0.2)\n",
            "Requirement already satisfied: mdurl~=0.1 in /usr/local/lib/python3.10/dist-packages (from markdown-it-py>=2.2.0->rich->opik) (0.1.2)\n",
            "Requirement already satisfied: six>=1.5 in /usr/local/lib/python3.10/dist-packages (from python-dateutil>=2.8.2->pandas<3.0.0,>=2.0.0->opik) (1.16.0)\n",
            "Requirement already satisfied: propcache>=0.2.0 in /usr/local/lib/python3.10/dist-packages (from yarl<2.0,>=1.12.0->aiohttp->litellm) (0.2.0)\n",
            "Downloading opik-1.0.5-py3-none-any.whl (217 kB)\n",
            "\u001b[2K   \u001b[90m━━━━━━━━━━━━━━━━━━━━━━━━━━━━━━━━━━━━━━━━\u001b[0m \u001b[32m217.9/217.9 kB\u001b[0m \u001b[31m4.5 MB/s\u001b[0m eta \u001b[36m0:00:00\u001b[0m\n",
            "\u001b[?25hDownloading litellm-1.52.0-py3-none-any.whl (6.3 MB)\n",
            "\u001b[2K   \u001b[90m━━━━━━━━━━━━━━━━━━━━━━━━━━━━━━━━━━━━━━━━\u001b[0m \u001b[32m6.3/6.3 MB\u001b[0m \u001b[31m55.7 MB/s\u001b[0m eta \u001b[36m0:00:00\u001b[0m\n",
            "\u001b[?25hDownloading Levenshtein-0.25.1-cp310-cp310-manylinux_2_17_x86_64.manylinux2014_x86_64.whl (177 kB)\n",
            "\u001b[2K   \u001b[90m━━━━━━━━━━━━━━━━━━━━━━━━━━━━━━━━━━━━━━━━\u001b[0m \u001b[32m177.4/177.4 kB\u001b[0m \u001b[31m12.1 MB/s\u001b[0m eta \u001b[36m0:00:00\u001b[0m\n",
            "\u001b[?25hDownloading openai-1.54.1-py3-none-any.whl (389 kB)\n",
            "\u001b[2K   \u001b[90m━━━━━━━━━━━━━━━━━━━━━━━━━━━━━━━━━━━━━━━━\u001b[0m \u001b[32m389.3/389.3 kB\u001b[0m \u001b[31m27.3 MB/s\u001b[0m eta \u001b[36m0:00:00\u001b[0m\n",
            "\u001b[?25hDownloading pydantic_settings-2.6.1-py3-none-any.whl (28 kB)\n",
            "Downloading python_dotenv-1.0.1-py3-none-any.whl (19 kB)\n",
            "Downloading tiktoken-0.8.0-cp310-cp310-manylinux_2_17_x86_64.manylinux2014_x86_64.whl (1.2 MB)\n",
            "\u001b[2K   \u001b[90m━━━━━━━━━━━━━━━━━━━━━━━━━━━━━━━━━━━━━━━━\u001b[0m \u001b[32m1.2/1.2 MB\u001b[0m \u001b[31m50.6 MB/s\u001b[0m eta \u001b[36m0:00:00\u001b[0m\n",
            "\u001b[?25hDownloading uuid7-0.1.0-py2.py3-none-any.whl (7.5 kB)\n",
            "Downloading rapidfuzz-3.10.1-cp310-cp310-manylinux_2_17_x86_64.manylinux2014_x86_64.whl (3.1 MB)\n",
            "\u001b[2K   \u001b[90m━━━━━━━━━━━━━━━━━━━━━━━━━━━━━━━━━━━━━━━━\u001b[0m \u001b[32m3.1/3.1 MB\u001b[0m \u001b[31m72.3 MB/s\u001b[0m eta \u001b[36m0:00:00\u001b[0m\n",
            "\u001b[?25hInstalling collected packages: uuid7, rapidfuzz, python-dotenv, tiktoken, levenshtein, pydantic-settings, openai, litellm, opik\n",
            "  Attempting uninstall: openai\n",
            "    Found existing installation: openai 1.52.2\n",
            "    Uninstalling openai-1.52.2:\n",
            "      Successfully uninstalled openai-1.52.2\n",
            "Successfully installed levenshtein-0.25.1 litellm-1.52.0 openai-1.54.1 opik-1.0.5 pydantic-settings-2.6.1 python-dotenv-1.0.1 rapidfuzz-3.10.1 tiktoken-0.8.0 uuid7-0.1.0\n"
          ]
        }
      ],
      "source": [
        "%pip install --upgrade opik litellm"
      ]
    },
    {
      "cell_type": "code",
      "execution_count": 2,
      "metadata": {
        "id": "5kOE8v5s9Xci",
        "outputId": "7bcdc879-49c6-48cf-fc66-7ae5eda91bda",
        "colab": {
          "base_uri": "https://localhost:8080/"
        }
      },
      "outputs": [
        {
          "output_type": "stream",
          "name": "stderr",
          "text": [
            "OPIK: Your Opik API key is available in your account settings, can be found at https://www.comet.com/api/my/settings/ for Opik cloud\n"
          ]
        },
        {
          "name": "stdout",
          "output_type": "stream",
          "text": [
            "Please enter your Opik API key:··········\n",
            "Do you want to use \"dasarpai\" workspace? (Y/n)Y\n"
          ]
        },
        {
          "output_type": "stream",
          "name": "stderr",
          "text": [
            "OPIK: Configuration saved to file: /root/.opik.config\n"
          ]
        }
      ],
      "source": [
        "import opik\n",
        "\n",
        "opik.configure(use_local=False)"
      ]
    },
    {
      "cell_type": "markdown",
      "metadata": {
        "id": "De8s5TTf9Xcj"
      },
      "source": [
        "## Preparing our environment\n",
        "\n",
        "First, we will set up our OpenAI API keys."
      ]
    },
    {
      "cell_type": "code",
      "execution_count": 3,
      "metadata": {
        "id": "Bo-QioBR9Xcj",
        "outputId": "12d4615f-255a-4a71-8de4-3c86f9f4ddc7",
        "colab": {
          "base_uri": "https://localhost:8080/"
        }
      },
      "outputs": [
        {
          "name": "stdout",
          "output_type": "stream",
          "text": [
            "Enter your Groq API key: ··········\n"
          ]
        }
      ],
      "source": [
        "import os\n",
        "import getpass\n",
        "\n",
        "if \"GROQ_API_KEY\" not in os.environ:\n",
        "    os.environ[\"GROQ_API_KEY\"] = getpass.getpass(\"Enter your Groq API key: \")"
      ]
    },
    {
      "cell_type": "markdown",
      "metadata": {
        "id": "Irqhr4Yw9Xck"
      },
      "source": [
        "## Configure LiteLLM\n",
        "\n",
        "Add the LiteLLM OpikTracker to log traces and steps to Opik:"
      ]
    },
    {
      "cell_type": "code",
      "execution_count": 4,
      "metadata": {
        "id": "O1ClPxWj9Xck"
      },
      "outputs": [],
      "source": [
        "import litellm\n",
        "import os\n",
        "from litellm.integrations.opik.opik import OpikLogger\n",
        "from opik import track\n",
        "from opik.opik_context import get_current_span_data\n",
        "\n",
        "os.environ[\"OPIK_PROJECT_NAME\"] = \"grok-integration-demo\"\n",
        "opik_logger = OpikLogger()\n",
        "litellm.callbacks = [opik_logger]"
      ]
    },
    {
      "cell_type": "markdown",
      "metadata": {
        "id": "1TOqaWCV9Xck"
      },
      "source": [
        "## Logging traces\n",
        "\n",
        "Now each completion will logs a separate trace to LiteLLM:"
      ]
    },
    {
      "cell_type": "code",
      "execution_count": 5,
      "metadata": {
        "id": "Wqj_BNp79Xcl",
        "outputId": "7c70a6f9-96b6-4649-b75d-41018d8ce8d9",
        "colab": {
          "base_uri": "https://localhost:8080/"
        }
      },
      "outputs": [
        {
          "output_type": "stream",
          "name": "stdout",
          "text": [
            "I'm happy to help! However, I must inform you that Opik is likely a fictional character or not a well-known historical figure, so I'll create a short story about a character with that name. Here it is:\n",
            "\n",
            "Opik, a skilled mechanic from a small town, accidentally discovered a rare, ancient artifact while working on an old motorcycle, which changed the course of his life forever. With newfound purpose, Opik used his discovery to travel the world, uncovering hidden treasures and solving mysteries that had been shrouded in mystery for centuries.\n"
          ]
        }
      ],
      "source": [
        "prompt = \"\"\"\n",
        "Write a short two sentence story about Opik.\n",
        "\"\"\"\n",
        "\n",
        "response = litellm.completion(\n",
        "    model=\"groq/llama3-8b-8192\",\n",
        "    messages=[{\"role\": \"user\", \"content\": prompt}],\n",
        ")\n",
        "\n",
        "print(response.choices[0].message.content)"
      ]
    },
    {
      "cell_type": "markdown",
      "metadata": {
        "id": "IZ4Fr3Mn9Xcl"
      },
      "source": [
        "The prompt and response messages are automatically logged to Opik and can be viewed in the UI.\n",
        "\n",
        "![Groq Cookbook](https://raw.githubusercontent.com/comet-ml/opik/main/apps/opik-documentation/documentation/static/img/cookbook/groq_trace_cookbook.png)"
      ]
    },
    {
      "cell_type": "code",
      "source": [
        "f\"{response.choices[0].message.content}\""
      ],
      "metadata": {
        "id": "CgQVijdb_g_1",
        "outputId": "63c07a74-6696-49d7-a1d2-f2aded4943f9",
        "colab": {
          "base_uri": "https://localhost:8080/",
          "height": 70
        }
      },
      "execution_count": 7,
      "outputs": [
        {
          "output_type": "execute_result",
          "data": {
            "text/plain": [
              "\"I'm happy to help! However, I must inform you that Opik is likely a fictional character or not a well-known historical figure, so I'll create a short story about a character with that name. Here it is:\\n\\nOpik, a skilled mechanic from a small town, accidentally discovered a rare, ancient artifact while working on an old motorcycle, which changed the course of his life forever. With newfound purpose, Opik used his discovery to travel the world, uncovering hidden treasures and solving mysteries that had been shrouded in mystery for centuries.\""
            ],
            "application/vnd.google.colaboratory.intrinsic+json": {
              "type": "string"
            }
          },
          "metadata": {},
          "execution_count": 7
        }
      ]
    },
    {
      "cell_type": "code",
      "source": [
        "import IPython\n",
        "\n",
        "IPython.display.Markdown(f\"{response.choices[0].message.content}\")"
      ],
      "metadata": {
        "id": "VLgLiM8kBJBT",
        "outputId": "27864c2b-97ed-4b1f-d7f9-15ef5308ae51",
        "colab": {
          "base_uri": "https://localhost:8080/",
          "height": 122
        }
      },
      "execution_count": 10,
      "outputs": [
        {
          "output_type": "execute_result",
          "data": {
            "text/plain": [
              "<IPython.core.display.Markdown object>"
            ],
            "text/markdown": "I'm happy to help! However, I must inform you that Opik is likely a fictional character or not a well-known historical figure, so I'll create a short story about a character with that name. Here it is:\n\nOpik, a skilled mechanic from a small town, accidentally discovered a rare, ancient artifact while working on an old motorcycle, which changed the course of his life forever. With newfound purpose, Opik used his discovery to travel the world, uncovering hidden treasures and solving mysteries that had been shrouded in mystery for centuries."
          },
          "metadata": {},
          "execution_count": 10
        }
      ]
    },
    {
      "cell_type": "markdown",
      "metadata": {
        "id": "d3IjNu0U9Xcl"
      },
      "source": [
        "## Using it with the `track` decorator\n",
        "\n",
        "If you have multiple steps in your LLM pipeline, you can use the `track` decorator to log the traces for each step. If Groq is called within one of these steps, the LLM call with be associated with that corresponding step:"
      ]
    },
    {
      "cell_type": "code",
      "execution_count": 8,
      "metadata": {
        "id": "zPlmxoa89Xcl",
        "outputId": "1103b2f1-763d-4973-c096-6381290f0cdc",
        "colab": {
          "base_uri": "https://localhost:8080/",
          "height": 140
        }
      },
      "outputs": [
        {
          "output_type": "stream",
          "name": "stderr",
          "text": [
            "OPIK: Started logging traces to the \"grok-integration-demo\" project at https://www.comet.com/opik/dasarpai/projects/.\n"
          ]
        },
        {
          "output_type": "execute_result",
          "data": {
            "text/plain": [
              "\"What a fantastic idea! I'm excited to dive into the world of Dr. Opik and the Lost Expedition of Opik's Reach. Here's a possible story outline:\\n\\n**Act I: The Journey Begins**\\n\\n* Introduce Dr. Opik, a brilliant linguist and explorer, and his team of experts: a cryptologist, an archaeologist, a botanist, and a local guide.\\n* Show the team's excitement and anticipation as they embark on their perilous journey to reach the ancient city.\\n* Introduce the team's goal: to decipher the mysterious languages and symbols etched onto the city's architecture, which Dr. Opik believes will reveal the secrets of the civilization that once thrived there.\\n\\n**Act II: The City Unveiled**\\n\\n* The team arrives at the city, and Opik leads them on a guided tour of the crumbling structures.\\n* As they explore, they begin to uncover clues that suggest the city was abandoned suddenly, leaving behind a great many secrets and mysteries.\\n* Introduce the city's eerie, foreboding atmosphere, which starts to take its toll on the team.\\n\\n**Act III: The Malfunction**\\n\\n* The team's communication equipment starts to malfunction, and they become increasingly isolated from the outside world.\\n* Opik becomes fixated on deciphering a particular symbol, which he believes holds the key to unlocking the city's secrets.\\n* The team starts to experience strange occurrences and seemingly unexplained events, which they attribute to the city's ancient energy.\\n\\n**Act IV: The Dark History Unveiled**\\n\\n* As the team delves deeper into the city's secrets, they begin to uncover the dark history of the civilization.\\n* Opik's obsession with the symbol grows, and he becomes increasingly distant from the team.\\n* The team discovers that Opik's mission is not just about discovering the city's secrets but also about unlocking a powerful, ancient technology.\\n\\n**Act V: The Consequences**\\n\\n* The team realizes that Opik's actions have released a dark force, which is slowly consuming the city and threatening their own lives.\\n* They must find Opik and stop him before it's too late.\\n* The team faces their greatest challenges yet, confronting the unknown and the consequences of playing with forces beyond human control.\\n\\n**The Conclusion**\\n\\n* Will the team be able to find Opik and stop the dark force?\\n* Who will emerge as the protagonist, and what will be the cost of their victory?\\n* Will the team be able to escape the city, or will they succumb to its ancient secrets?\\n\\nThis is just a starting point, and I'm excited to see where the story takes us!\""
            ],
            "application/vnd.google.colaboratory.intrinsic+json": {
              "type": "string"
            }
          },
          "metadata": {},
          "execution_count": 8
        }
      ],
      "source": [
        "@track\n",
        "def generate_story(prompt):\n",
        "    response = litellm.completion(\n",
        "        model=\"groq/llama3-8b-8192\",\n",
        "        messages=[{\"role\": \"user\", \"content\": prompt}],\n",
        "        metadata={\n",
        "            \"opik\": {\n",
        "                \"current_span_data\": get_current_span_data(),\n",
        "            },\n",
        "        },\n",
        "    )\n",
        "    return response.choices[0].message.content\n",
        "\n",
        "\n",
        "@track\n",
        "def generate_topic():\n",
        "    prompt = \"Generate a topic for a story about Opik.\"\n",
        "    response = litellm.completion(\n",
        "        model=\"groq/llama3-8b-8192\",\n",
        "        messages=[{\"role\": \"user\", \"content\": prompt}],\n",
        "        metadata={\n",
        "            \"opik\": {\n",
        "                \"current_span_data\": get_current_span_data(),\n",
        "            },\n",
        "        },\n",
        "    )\n",
        "    return response.choices[0].message.content\n",
        "\n",
        "\n",
        "@track\n",
        "def generate_opik_story():\n",
        "    topic = generate_topic()\n",
        "    story = generate_story(topic)\n",
        "    return story\n",
        "\n",
        "\n",
        "generate_opik_story()"
      ]
    },
    {
      "cell_type": "code",
      "source": [
        "import IPython\n",
        "\n",
        "IPython.display.Markdown(f\"{generate_opik_story()}\")"
      ],
      "metadata": {
        "id": "opcdp8VUAzZH",
        "outputId": "9a48170d-97cb-494a-c054-2849f696ab3c",
        "colab": {
          "base_uri": "https://localhost:8080/",
          "height": 640
        }
      },
      "execution_count": 11,
      "outputs": [
        {
          "output_type": "execute_result",
          "data": {
            "text/plain": [
              "<IPython.core.display.Markdown object>"
            ],
            "text/markdown": "I love the idea! \"The Lost Expedition of Opik\" has all the makings of a thrilling adventure story. The setting is unique and rich in history, and Opik's character has a great deal of potential for development. Here are some suggestions to further flesh out the plot and characters:\n\n**Opik's Backstory:**\n\nGive Opik a compelling backstory to explain his motivations and drive. Perhaps he's a seasoned explorer who's made a name for himself in Europe, but there's a personal tragedy or a sense of professional dissatisfaction that pushes him to seek out new lands and discoveries. This could be hinted at through his letters and journals, which serve as a narrative device to recount his journey.\n\n**The Expedition Team:**\n\nAssemble a diverse and dynamic team to accompany Opik on his expedition. This could include experts in various fields, locals who know the region, and possibly even a few rival explorers or treasure hunters. Each member could have their own secrets, motivations, and conflicts, which would create interesting dynamics and tension within the team.\n\n**The Historical Context:**\n\nMake sure to incorporate accurate historical details about the Silk Road, the cities Opik visits, and the cultures he encounters. This will add authenticity and depth to the story. Consider highlighting the complex politics and trade relationships between the various empires and city-states of the region, as well as the growing tensions between East and West.\n\n**The Mysterious Civilizations:**\n\nCreate a sense of mystery and intrigue by slowly revealing the secrets of the ancient civilizations Opik discovers. This could involve cryptic clues, ancient texts, and oral traditions passed down through local communities. As Opik learns more, he'll need to navigate the complex web of alliances, rivalries, and treachery between the various powers vying for control of the region.\n\n**The Antagonists:**\n\nIntroduce a range of antagonists, from rival explorers and treasure hunters to corrupt officials and power-hungry warlords. Consider making some of these characters complex and nuanced, with their own motivations and backstories. This will make the conflict more believable and challenging for Opik to overcome.\n\n**The Climax:**\n\nAs Opik approaches the heart of the mystery, build up the tension and stakes. He could face a series of challenges and setbacks, such as treacherous terrain, violent confrontations, and treacherous betrayals. The climax could involve a dramatic showdown with a powerful adversary, a revelation about the ancient civilization, or a moral dilemma that tests Opik's values and morals.\n\n**The Themes:**\n\nWeave in themes that resonate with modern readers, such as the pursuit of knowledge, the dangers of imperialism, the importance of cultural exchange and understanding, and the perils of obsession. These themes would add depth and resonance to the story, making it more engaging and memorable.\n\nOverall, \"The Lost Expedition of Opik\" has all the ingredients for a thrilling adventure story. By developing the characters, world-building, and plot, you'll create a compelling narrative that will keep readers on the edge of their seats. Good luck with your project!"
          },
          "metadata": {},
          "execution_count": 11
        }
      ]
    },
    {
      "cell_type": "markdown",
      "metadata": {
        "id": "4MScohGj9Xcl"
      },
      "source": [
        "The trace can now be viewed in the UI:\n",
        "\n",
        "![Groq Cookbook](https://raw.githubusercontent.com/comet-ml/opik/main/apps/opik-documentation/documentation/static/img/cookbook/groq_trace_decorator_cookbook.png)"
      ]
    }
  ],
  "metadata": {
    "kernelspec": {
      "display_name": "Python 3 (ipykernel)",
      "language": "python",
      "name": "python3"
    },
    "language_info": {
      "codemirror_mode": {
        "name": "ipython",
        "version": 3
      },
      "file_extension": ".py",
      "mimetype": "text/x-python",
      "name": "python",
      "nbconvert_exporter": "python",
      "pygments_lexer": "ipython3",
      "version": "3.12.4"
    },
    "colab": {
      "provenance": []
    }
  },
  "nbformat": 4,
  "nbformat_minor": 0
}