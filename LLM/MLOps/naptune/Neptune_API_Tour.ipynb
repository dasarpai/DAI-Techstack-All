{
 "cells": [
  {
   "cell_type": "markdown",
   "metadata": {
    "colab_type": "text",
    "id": "dbL6wnySOyQ6",
    "pycharm": {
     "name": "#%% md\n"
    },
    "tags": [
     "header"
    ]
   },
   "source": [
    "# Neptune API tour\n"
   ]
  },
  {
   "cell_type": "markdown",
   "metadata": {
    "pycharm": {
     "name": "#%% md\n"
    },
    "tags": [
     "header"
    ]
   },
   "source": [
    "## Introduction"
   ]
  },
  {
   "cell_type": "markdown",
   "metadata": {
    "pycharm": {
     "name": "#%% md\n"
    },
    "tags": [
     "comment"
    ]
   },
   "source": [
    "This guide will show you how to:\n",
    "\n",
    "* Install neptune-client\n",
    "* Connect Neptune to your script and create the first run\n",
    "* Log simple metrics to Neptune and explore the in the UI\n",
    "* Log learning curves, images and model binaries from Keras training and see those in the Neptune app\n",
    "* Fetch the data you logged to Neptune directly into your notebook and analyze them \n",
    "\n",
    "By the end of it, you will execute your first run and see it in Neptune!"
   ]
  },
  {
   "cell_type": "markdown",
   "metadata": {
    "pycharm": {
     "name": "#%% md\n"
    }
   },
   "source": [
    "## Before you start\n",
    "\n",
    "This notebook example lets you try out Neptune as an anonymous user, with zero setup.\n",
    "\n",
    "* If you are running the notebook on your local machine, you need to have [Python](https://www.python.org/downloads/) and [pip](https://pypi.org/project/pip/) installed.\n",
    "* If you want to see the example recorded to your own workspace instead:\n",
    "    * Create a Neptune account → [Take me to registration](https://neptune.ai/register)\n",
    "    * Create a Neptune project that you will use for tracking metadata → [Tell me more about projects](https://docs.neptune.ai/administration/projects)"
   ]
  },
  {
   "cell_type": "markdown",
   "metadata": {
    "pycharm": {
     "name": "#%% md\n"
    }
   },
   "source": [
    "## Install Neptune and dependencies"
   ]
  },
  {
   "cell_type": "code",
   "execution_count": 1,
   "metadata": {
    "pycharm": {
     "name": "#%%\n"
    }
   },
   "outputs": [
    {
     "name": "stdout",
     "output_type": "stream",
     "text": [
      "Collecting neptune-client\n",
      "  Downloading neptune-client-0.16.4.tar.gz (318 kB)\n",
      "Collecting bravado\n",
      "  Downloading bravado-11.0.3-py2.py3-none-any.whl (38 kB)\n",
      "Requirement already satisfied: click>=7.0 in d:\\users\\admin\\anaconda3\\envs\\sanskrit\\lib\\site-packages (from neptune-client) (8.1.3)\n",
      "Requirement already satisfied: future>=0.17.1 in c:\\users\\admin\\appdata\\roaming\\python\\python37\\site-packages (from neptune-client) (0.18.2)\n",
      "Requirement already satisfied: oauthlib>=2.1.0 in d:\\users\\admin\\anaconda3\\envs\\sanskrit\\lib\\site-packages (from neptune-client) (3.2.0)\n",
      "Requirement already satisfied: pandas in d:\\users\\admin\\anaconda3\\envs\\sanskrit\\lib\\site-packages (from neptune-client) (1.3.5)\n",
      "Requirement already satisfied: Pillow>=1.1.6 in d:\\users\\admin\\anaconda3\\envs\\sanskrit\\lib\\site-packages (from neptune-client) (9.1.1)\n",
      "Collecting PyJWT\n",
      "  Using cached PyJWT-2.4.0-py3-none-any.whl (18 kB)\n",
      "Requirement already satisfied: requests>=2.20.0 in d:\\users\\admin\\anaconda3\\envs\\sanskrit\\lib\\site-packages (from neptune-client) (2.27.1)\n",
      "Requirement already satisfied: requests-oauthlib>=1.0.0 in d:\\users\\admin\\anaconda3\\envs\\sanskrit\\lib\\site-packages (from neptune-client) (1.3.1)\n",
      "Requirement already satisfied: six>=1.12.0 in d:\\users\\admin\\anaconda3\\envs\\sanskrit\\lib\\site-packages (from neptune-client) (1.15.0)\n",
      "Collecting websocket-client!=1.0.0,>=0.35.0\n",
      "  Downloading websocket_client-1.3.3-py3-none-any.whl (54 kB)\n",
      "Collecting GitPython>=2.0.8\n",
      "  Using cached GitPython-3.1.27-py3-none-any.whl (181 kB)\n",
      "Collecting boto3>=1.16.0\n",
      "  Downloading boto3-1.24.31-py3-none-any.whl (132 kB)\n",
      "Requirement already satisfied: packaging in d:\\users\\admin\\anaconda3\\envs\\sanskrit\\lib\\site-packages (from neptune-client) (21.3)\n",
      "Requirement already satisfied: urllib3 in d:\\users\\admin\\anaconda3\\envs\\sanskrit\\lib\\site-packages (from neptune-client) (1.26.8)\n",
      "Collecting swagger-spec-validator>=2.7.4\n",
      "  Downloading swagger_spec_validator-2.7.4-py2.py3-none-any.whl (27 kB)\n",
      "Collecting psutil\n",
      "  Downloading psutil-5.9.1-cp37-cp37m-win_amd64.whl (246 kB)\n",
      "Collecting jsonschema<4.0.0\n",
      "  Downloading jsonschema-3.2.0-py2.py3-none-any.whl (56 kB)\n",
      "Collecting s3transfer<0.7.0,>=0.6.0\n",
      "  Downloading s3transfer-0.6.0-py3-none-any.whl (79 kB)\n",
      "Collecting jmespath<2.0.0,>=0.7.1\n",
      "  Downloading jmespath-1.0.1-py3-none-any.whl (20 kB)\n",
      "Collecting botocore<1.28.0,>=1.27.31\n",
      "  Downloading botocore-1.27.31-py3-none-any.whl (9.0 MB)\n",
      "Requirement already satisfied: python-dateutil<3.0.0,>=2.1 in d:\\users\\admin\\anaconda3\\envs\\sanskrit\\lib\\site-packages (from botocore<1.28.0,>=1.27.31->boto3>=1.16.0->neptune-client) (2.8.2)\n",
      "Requirement already satisfied: importlib-metadata in d:\\users\\admin\\anaconda3\\envs\\sanskrit\\lib\\site-packages (from click>=7.0->neptune-client) (4.8.2)\n",
      "Requirement already satisfied: colorama in d:\\users\\admin\\anaconda3\\envs\\sanskrit\\lib\\site-packages (from click>=7.0->neptune-client) (0.4.4)\n",
      "Collecting gitdb<5,>=4.0.1\n",
      "  Using cached gitdb-4.0.9-py3-none-any.whl (63 kB)\n",
      "Requirement already satisfied: typing-extensions>=3.7.4.3 in d:\\users\\admin\\anaconda3\\envs\\sanskrit\\lib\\site-packages (from GitPython>=2.0.8->neptune-client) (3.7.4.3)\n",
      "Collecting smmap<6,>=3.0.1\n",
      "  Using cached smmap-5.0.0-py3-none-any.whl (24 kB)\n",
      "Collecting pyrsistent>=0.14.0\n",
      "  Downloading pyrsistent-0.18.1-cp37-cp37m-win_amd64.whl (61 kB)\n",
      "Requirement already satisfied: setuptools in d:\\users\\admin\\anaconda3\\envs\\sanskrit\\lib\\site-packages (from jsonschema<4.0.0->neptune-client) (58.0.4)\n",
      "Collecting attrs>=17.4.0\n",
      "  Downloading attrs-21.4.0-py2.py3-none-any.whl (60 kB)\n",
      "Requirement already satisfied: idna<4,>=2.5 in d:\\users\\admin\\anaconda3\\envs\\sanskrit\\lib\\site-packages (from requests>=2.20.0->neptune-client) (3.3)\n",
      "Requirement already satisfied: certifi>=2017.4.17 in d:\\users\\admin\\anaconda3\\envs\\sanskrit\\lib\\site-packages (from requests>=2.20.0->neptune-client) (2021.10.8)\n",
      "Requirement already satisfied: charset-normalizer~=2.0.0 in d:\\users\\admin\\anaconda3\\envs\\sanskrit\\lib\\site-packages (from requests>=2.20.0->neptune-client) (2.0.12)\n",
      "Requirement already satisfied: pyyaml in d:\\users\\admin\\anaconda3\\envs\\sanskrit\\lib\\site-packages (from swagger-spec-validator>=2.7.4->neptune-client) (6.0)\n",
      "Collecting simplejson\n",
      "  Downloading simplejson-3.17.6-cp37-cp37m-win_amd64.whl (75 kB)\n",
      "Collecting monotonic\n",
      "  Downloading monotonic-1.6-py2.py3-none-any.whl (8.2 kB)\n",
      "Collecting msgpack\n",
      "  Downloading msgpack-1.0.4-cp37-cp37m-win_amd64.whl (61 kB)\n",
      "Collecting bravado-core>=5.16.1\n",
      "  Downloading bravado_core-5.17.0-py2.py3-none-any.whl (67 kB)\n",
      "Requirement already satisfied: pytz in d:\\users\\admin\\anaconda3\\envs\\sanskrit\\lib\\site-packages (from bravado-core>=5.16.1->bravado->neptune-client) (2022.1)\n",
      "Collecting jsonschema[format]>=2.5.1\n",
      "  Downloading jsonschema-4.7.2-py3-none-any.whl (81 kB)\n",
      "Collecting jsonref\n",
      "  Downloading jsonref-0.2-py3-none-any.whl (9.3 kB)\n",
      "Collecting jsonschema[format]>=2.5.1\n",
      "  Downloading jsonschema-4.7.1-py3-none-any.whl (80 kB)\n",
      "  Downloading jsonschema-4.7.0-py3-none-any.whl (80 kB)\n",
      "  Downloading jsonschema-4.6.2-py3-none-any.whl (80 kB)\n",
      "  Downloading jsonschema-4.6.1-py3-none-any.whl (80 kB)\n",
      "  Downloading jsonschema-4.6.0-py3-none-any.whl (80 kB)\n",
      "  Downloading jsonschema-4.5.1-py3-none-any.whl (72 kB)\n",
      "  Downloading jsonschema-4.5.0-py3-none-any.whl (73 kB)\n",
      "  Downloading jsonschema-4.4.0-py3-none-any.whl (72 kB)\n",
      "  Downloading jsonschema-4.3.3-py3-none-any.whl (71 kB)\n",
      "  Downloading jsonschema-4.3.2-py3-none-any.whl (71 kB)\n",
      "  Downloading jsonschema-4.3.1-py3-none-any.whl (71 kB)\n",
      "  Downloading jsonschema-4.3.0-py3-none-any.whl (71 kB)\n",
      "  Downloading jsonschema-4.2.1-py3-none-any.whl (69 kB)\n",
      "  Downloading jsonschema-4.2.0-py3-none-any.whl (69 kB)\n",
      "  Downloading jsonschema-4.1.2-py3-none-any.whl (69 kB)\n",
      "  Downloading jsonschema-4.1.1-py3-none-any.whl (69 kB)\n",
      "  Downloading jsonschema-4.1.0-py3-none-any.whl (69 kB)\n",
      "  Downloading jsonschema-4.0.1-py3-none-any.whl (69 kB)\n",
      "Collecting webcolors\n",
      "  Downloading webcolors-1.12-py3-none-any.whl (9.9 kB)\n",
      "Collecting rfc3987\n",
      "  Downloading rfc3987-1.3.8-py2.py3-none-any.whl (13 kB)\n",
      "Collecting jsonpointer>1.13\n",
      "  Downloading jsonpointer-2.3-py2.py3-none-any.whl (7.8 kB)\n",
      "Collecting strict-rfc3339\n",
      "  Downloading strict-rfc3339-0.7.tar.gz (17 kB)\n",
      "Requirement already satisfied: zipp>=0.5 in d:\\users\\admin\\anaconda3\\envs\\sanskrit\\lib\\site-packages (from importlib-metadata->click>=7.0->neptune-client) (3.7.0)\n",
      "Requirement already satisfied: pyparsing!=3.0.5,>=2.0.2 in d:\\users\\admin\\anaconda3\\envs\\sanskrit\\lib\\site-packages (from packaging->neptune-client) (3.0.9)\n",
      "Requirement already satisfied: numpy>=1.17.3 in d:\\users\\admin\\anaconda3\\envs\\sanskrit\\lib\\site-packages (from pandas->neptune-client) (1.19.5)\n",
      "Building wheels for collected packages: neptune-client, strict-rfc3339\n",
      "  Building wheel for neptune-client (setup.py): started\n",
      "  Building wheel for neptune-client (setup.py): finished with status 'done'\n",
      "  Created wheel for neptune-client: filename=neptune_client-0.16.4-py2.py3-none-any.whl size=570565 sha256=5f24c26eb07942461dc6936ea5759ea7c3cc437ae54a984289a1fc85fbde571b\n",
      "  Stored in directory: c:\\users\\admin\\appdata\\local\\pip\\cache\\wheels\\ce\\d1\\e6\\5b685a63da87b081d65980daf95f82a4edea00834d83246054\n",
      "  Building wheel for strict-rfc3339 (setup.py): started\n",
      "  Building wheel for strict-rfc3339 (setup.py): finished with status 'done'\n",
      "  Created wheel for strict-rfc3339: filename=strict_rfc3339-0.7-py3-none-any.whl size=18149 sha256=1eb33950a0c89f3c99eefc3660c5c2f68ba75a1683d73a2071eb5493af8bc2d1\n",
      "  Stored in directory: c:\\users\\admin\\appdata\\local\\pip\\cache\\wheels\\f3\\1d\\9f\\2a74caecb81b8beb9a4fbe1754203d4b7cf42ef5d39e0d2311\n",
      "Successfully built neptune-client strict-rfc3339\n",
      "Installing collected packages: pyrsistent, attrs, webcolors, strict-rfc3339, rfc3987, jsonschema, jsonpointer, jmespath, swagger-spec-validator, smmap, simplejson, msgpack, jsonref, botocore, s3transfer, monotonic, gitdb, bravado-core, websocket-client, PyJWT, psutil, GitPython, bravado, boto3, neptune-client\n",
      "Successfully installed GitPython-3.1.27 PyJWT-2.4.0 attrs-21.4.0 boto3-1.24.31 botocore-1.27.31 bravado-11.0.3 bravado-core-5.17.0 gitdb-4.0.9 jmespath-1.0.1 jsonpointer-2.3 jsonref-0.2 jsonschema-3.2.0 monotonic-1.6 msgpack-1.0.4 neptune-client-0.16.4 psutil-5.9.1 pyrsistent-0.18.1 rfc3987-1.3.8 s3transfer-0.6.0 simplejson-3.17.6 smmap-5.0.0 strict-rfc3339-0.7 swagger-spec-validator-2.7.4 webcolors-1.12 websocket-client-1.3.3\n"
     ]
    }
   ],
   "source": [
    "! pip install neptune-client"
   ]
  },
  {
   "cell_type": "markdown",
   "metadata": {
    "pycharm": {
     "name": "#%% md\n"
    }
   },
   "source": [
    "## Initialize Neptune"
   ]
  },
  {
   "cell_type": "markdown",
   "metadata": {
    "pycharm": {
     "name": "#%% md\n"
    }
   },
   "source": [
    "Connect your script to Neptune application and create new run."
   ]
  },
  {
   "cell_type": "code",
   "execution_count": 2,
   "metadata": {
    "pycharm": {
     "name": "#%%\n"
    }
   },
   "outputs": [
    {
     "name": "stdout",
     "output_type": "stream",
     "text": [
      "https://app.neptune.ai/common/colab-test-run/e/COL-39943\n"
     ]
    },
    {
     "name": "stderr",
     "output_type": "stream",
     "text": [
      "Info (NVML): NVML Shared Library Not Found. GPU usage metrics may not be reported. For more information, see https://docs.neptune.ai/you-should-know/what-can-you-log-and-display#hardware-consumption\n"
     ]
    },
    {
     "name": "stdout",
     "output_type": "stream",
     "text": [
      "Remember to stop your run once you’ve finished logging your metadata (https://docs.neptune.ai/api-reference/run#.stop). It will be stopped automatically only when the notebook kernel/interactive console is terminated.\n"
     ]
    }
   ],
   "source": [
    "import neptune.new as neptune\n",
    "\n",
    "run = neptune.init(project=\"common/colab-test-run\", api_token=\"ANONYMOUS\")"
   ]
  },
  {
   "cell_type": "markdown",
   "metadata": {
    "pycharm": {
     "name": "#%% md\n"
    }
   },
   "source": [
    "You tell Neptune: \n",
    "\n",
    "* **who you are**: your Neptune API token `api_token` \n",
    "* **where you want to send your data**: your Neptune `project`.\n",
    "\n",
    "At this point you have new run in Neptune. For now on you will use `run` to log metadata to it.\n",
    "\n",
    "---\n",
    "\n",
    "**Note**\n",
    "\n",
    "\n",
    "Instead of logging data to the public project 'common/colab-test-run' as an anonymous user 'neptuner' you can log it to your own project.\n",
    "\n",
    "To do that:\n",
    "\n",
    "1. Get your [Neptune API token](https://docs.neptune.ai/getting-started/installation#authentication-neptune-api-token)\n",
    "2. Pass the token to ``api_token`` argument of ``neptune.init()`` method: ``api_token=YOUR_API_TOKEN``\n",
    "3. Pass your project to the ``project`` argument of ``neptune.init()``.\n",
    "\n",
    "For example:\n",
    "\n",
    "```python\n",
    "neptune.init(project=\"YOUR_WORKSPACE/YOUR_PROJECT\", \n",
    "             api_token=\"YOUR_API_TOKEN\")\n",
    "```"
   ]
  },
  {
   "cell_type": "markdown",
   "metadata": {
    "pycharm": {
     "name": "#%% md\n"
    }
   },
   "source": [
    "## Basic Example"
   ]
  },
  {
   "cell_type": "markdown",
   "metadata": {
    "pycharm": {
     "name": "#%% md\n"
    }
   },
   "source": [
    "Lets start with something super simple.\n",
    "\n",
    "You will:\n",
    "* log parameters\n",
    "* log a training and validation scores\n",
    "* log loss\n",
    "* add name to the run\n",
    "* append two tags"
   ]
  },
  {
   "cell_type": "code",
   "execution_count": 4,
   "metadata": {
    "pycharm": {
     "name": "#%%\n"
    }
   },
   "outputs": [],
   "source": [
    "params = {\"learning_rate\": 0.1}\n",
    "\n",
    "# log params\n",
    "run[\"parameters\"] = params\n",
    "\n",
    "# log name and append tags\n",
    "run[\"sys/name\"] = \"basic-colab-example\"\n",
    "run[\"sys/tags\"].add([\"colab\", \"intro\"])\n",
    "\n",
    "# log loss during training\n",
    "for epoch in range(1000):\n",
    "    run[\"train/loss\"].log(0.90 ** epoch)\n",
    "\n",
    "# log train and validation scores\n",
    "run[\"train/accuracy\"] = 0.94\n",
    "run[\"valid/accuracy\"] = 0.92"
   ]
  },
  {
   "cell_type": "markdown",
   "metadata": {
    "pycharm": {
     "name": "#%% md\n"
    }
   },
   "source": [
    "Runs can be viewed as dictionary-like structures - **namespaces** - that you can define in your code. You can apply hierarchical structure to your metadata that will be reflected in the UI as well. Thanks to this you can easily organize your metadata in a way you feel is most convenient.\n",
    "\n",
    "There is one special namespace: **system namespace**, denoted `sys`. You can use it to add name and tags to the run."
   ]
  },
  {
   "cell_type": "markdown",
   "metadata": {
    "pycharm": {
     "name": "#%% md\n"
    }
   },
   "source": [
    "Try to change the values and re-execute to see your runs appear in the dashboard."
   ]
  },
  {
   "cell_type": "markdown",
   "metadata": {
    "pycharm": {
     "name": "#%% md\n"
    }
   },
   "source": [
    "All `basic-colab-example` runs are grouped in [this dashboard view](https://app.neptune.ai/o/common/org/colab-test-run/experiments?viewId=2eb46477-0064-4617-a182-17f8a2fcc06a).\n",
    "\n",
    "![colab-runs](https://neptune.ai/wp-content/uploads/docs-api-tour.png)\n",
    "\n",
    "There are many other things that you can log to neptune:\n",
    "\n",
    "* Images and charts\n",
    "* Artifacts like model weights or results\n",
    "* Text values\n",
    "* Hardware consumption\n",
    "* Code snapshots\n",
    "* and more\n",
    "\n",
    "You can go and see all that in the [documentation](https://docs.neptune.ai/user-guides/logging-and-managing-runs-results/logging-runs-data), and also check out the next example to see some of those.\n"
   ]
  },
  {
   "cell_type": "markdown",
   "metadata": {
    "pycharm": {
     "name": "#%% md\n"
    }
   },
   "source": [
    "**Stop logging**  \n",
    "\n",
    "<font color=red>**Warning:**</font><br>\n",
    "Once you are done logging, you should stop tracking the run using the `stop()` method.\n",
    "This is needed only while logging from a notebook environment. While logging through a script, Neptune automatically stops tracking once the script has completed execution."
   ]
  },
  {
   "cell_type": "code",
   "execution_count": 5,
   "metadata": {
    "pycharm": {
     "name": "#%%\n"
    }
   },
   "outputs": [
    {
     "name": "stdout",
     "output_type": "stream",
     "text": [
      "Shutting down background jobs, please wait a moment...\n",
      "Done!\n",
      "Waiting for the remaining 1 operations to synchronize with Neptune. Do not kill this process.\n",
      "All 1 operations synced, thanks for waiting!\n",
      "Explore the metadata in the Neptune app:\n",
      "https://app.neptune.ai/common/colab-test-run/e/COL-39943\n"
     ]
    }
   ],
   "source": [
    "run.stop()"
   ]
  },
  {
   "cell_type": "markdown",
   "metadata": {
    "pycharm": {
     "name": "#%% md\n"
    }
   },
   "source": [
    "## Keras classification example [Advanced]"
   ]
  },
  {
   "cell_type": "markdown",
   "metadata": {
    "pycharm": {
     "name": "#%% md\n"
    }
   },
   "source": [
    "Install and import your machine learning libraries"
   ]
  },
  {
   "cell_type": "code",
   "execution_count": 16,
   "metadata": {
    "pycharm": {
     "name": "#%%\n"
    }
   },
   "outputs": [
    {
     "name": "stdout",
     "output_type": "stream",
     "text": [
      "Collecting scikit-plot==0.3.7\n",
      "  Using cached scikit_plot-0.3.7-py3-none-any.whl (33 kB)\n",
      "Requirement already satisfied: matplotlib>=1.4.0 in d:\\users\\admin\\anaconda3\\envs\\sanskrit\\lib\\site-packages (from scikit-plot==0.3.7) (3.5.2)\n",
      "Requirement already satisfied: scipy>=0.9 in d:\\users\\admin\\anaconda3\\envs\\sanskrit\\lib\\site-packages (from scikit-plot==0.3.7) (1.7.3)\n",
      "Requirement already satisfied: scikit-learn>=0.18 in d:\\users\\admin\\anaconda3\\envs\\sanskrit\\lib\\site-packages (from scikit-plot==0.3.7) (1.0.2)\n",
      "Requirement already satisfied: joblib>=0.10 in d:\\users\\admin\\anaconda3\\envs\\sanskrit\\lib\\site-packages (from scikit-plot==0.3.7) (1.1.0)\n",
      "Requirement already satisfied: pyparsing>=2.2.1 in d:\\users\\admin\\anaconda3\\envs\\sanskrit\\lib\\site-packages (from matplotlib>=1.4.0->scikit-plot==0.3.7) (3.0.9)\n",
      "Requirement already satisfied: cycler>=0.10 in d:\\users\\admin\\anaconda3\\envs\\sanskrit\\lib\\site-packages (from matplotlib>=1.4.0->scikit-plot==0.3.7) (0.11.0)\n",
      "Requirement already satisfied: packaging>=20.0 in d:\\users\\admin\\anaconda3\\envs\\sanskrit\\lib\\site-packages (from matplotlib>=1.4.0->scikit-plot==0.3.7) (21.3)\n",
      "Requirement already satisfied: numpy>=1.17 in d:\\users\\admin\\anaconda3\\envs\\sanskrit\\lib\\site-packages (from matplotlib>=1.4.0->scikit-plot==0.3.7) (1.19.5)\n",
      "Requirement already satisfied: python-dateutil>=2.7 in d:\\users\\admin\\anaconda3\\envs\\sanskrit\\lib\\site-packages (from matplotlib>=1.4.0->scikit-plot==0.3.7) (2.8.2)\n",
      "Requirement already satisfied: kiwisolver>=1.0.1 in d:\\users\\admin\\anaconda3\\envs\\sanskrit\\lib\\site-packages (from matplotlib>=1.4.0->scikit-plot==0.3.7) (1.4.2)\n",
      "Requirement already satisfied: fonttools>=4.22.0 in d:\\users\\admin\\anaconda3\\envs\\sanskrit\\lib\\site-packages (from matplotlib>=1.4.0->scikit-plot==0.3.7) (4.33.3)\n",
      "Requirement already satisfied: pillow>=6.2.0 in d:\\users\\admin\\anaconda3\\envs\\sanskrit\\lib\\site-packages (from matplotlib>=1.4.0->scikit-plot==0.3.7) (9.1.1)\n",
      "Requirement already satisfied: typing-extensions in d:\\users\\admin\\anaconda3\\envs\\sanskrit\\lib\\site-packages (from kiwisolver>=1.0.1->matplotlib>=1.4.0->scikit-plot==0.3.7) (3.7.4.3)\n",
      "Requirement already satisfied: six>=1.5 in d:\\users\\admin\\anaconda3\\envs\\sanskrit\\lib\\site-packages (from python-dateutil>=2.7->matplotlib>=1.4.0->scikit-plot==0.3.7) (1.15.0)\n",
      "Requirement already satisfied: threadpoolctl>=2.0.0 in d:\\users\\admin\\anaconda3\\envs\\sanskrit\\lib\\site-packages (from scikit-learn>=0.18->scikit-plot==0.3.7) (3.1.0)\n",
      "Installing collected packages: scikit-plot"
     ]
    }
   ],
   "source": [
    "! pip install scikit-plot==0.3.7 \n",
    "#tensorflow==2.4.1"
   ]
  },
  {
   "cell_type": "markdown",
   "metadata": {
    "pycharm": {
     "name": "#%% md\n"
    }
   },
   "source": [
    "Get the data"
   ]
  },
  {
   "cell_type": "code",
   "execution_count": 6,
   "metadata": {
    "pycharm": {
     "name": "#%%\n"
    }
   },
   "outputs": [
    {
     "name": "stdout",
     "output_type": "stream",
     "text": [
      "Downloading data from https://storage.googleapis.com/tensorflow/tf-keras-datasets/mnist.npz\n",
      "11493376/11490434 [==============================] - 3s 0us/step\n"
     ]
    }
   ],
   "source": [
    "import tensorflow as tf\n",
    "\n",
    "mnist = tf.keras.datasets.mnist\n",
    "\n",
    "(x_train, y_train), (x_test, y_test) = mnist.load_data()\n",
    "x_train, x_test = x_train / 255.0, x_test / 255.0"
   ]
  },
  {
   "cell_type": "markdown",
   "metadata": {
    "pycharm": {
     "name": "#%% md\n"
    }
   },
   "source": [
    "Prepare the model"
   ]
  },
  {
   "cell_type": "code",
   "execution_count": 7,
   "metadata": {
    "pycharm": {
     "name": "#%%\n"
    }
   },
   "outputs": [],
   "source": [
    "model = tf.keras.models.Sequential(\n",
    "    [\n",
    "        tf.keras.layers.Flatten(input_shape=(28, 28)),\n",
    "        tf.keras.layers.Dense(512, activation=\"relu\"),\n",
    "        tf.keras.layers.Dropout(0.2),\n",
    "        tf.keras.layers.Dense(10, activation=\"softmax\"),\n",
    "    ]\n",
    ")\n",
    "\n",
    "model.compile(optimizer=\"sgd\", loss=\"sparse_categorical_crossentropy\", metrics=[\"accuracy\"])"
   ]
  },
  {
   "cell_type": "markdown",
   "metadata": {
    "pycharm": {
     "name": "#%% md\n"
    }
   },
   "source": [
    "To log metrics after every batch and epoch let's create `NeptuneLogger` callback:"
   ]
  },
  {
   "cell_type": "code",
   "execution_count": 8,
   "metadata": {
    "pycharm": {
     "name": "#%%\n"
    }
   },
   "outputs": [],
   "source": [
    "from tensorflow.keras.callbacks import Callback\n",
    "\n",
    "\n",
    "class NeptuneLogger(Callback):\n",
    "    def on_batch_end(self, batch, logs={}):\n",
    "        for log_name, log_value in logs.items():\n",
    "            run[\"batch/{}\".format(log_name)].log(log_value)\n",
    "\n",
    "    def on_epoch_end(self, epoch, logs={}):\n",
    "        for log_name, log_value in logs.items():\n",
    "            run[\"epoch/{}\".format(log_name)].log(log_value)"
   ]
  },
  {
   "cell_type": "markdown",
   "metadata": {
    "pycharm": {
     "name": "#%% md\n"
    }
   },
   "source": [
    "Now we simply need to create a run.\n",
    "I will tag it with the name `advanced` and log hyperparameters `epoch_nr` and `batch_size`: "
   ]
  },
  {
   "cell_type": "code",
   "execution_count": 9,
   "metadata": {
    "pycharm": {
     "name": "#%%\n"
    }
   },
   "outputs": [
    {
     "name": "stdout",
     "output_type": "stream",
     "text": [
      "https://app.neptune.ai/common/colab-test-run/e/COL-39944\n",
      "Remember to stop your run once you’ve finished logging your metadata (https://docs.neptune.ai/api-reference/run#.stop). It will be stopped automatically only when the notebook kernel/interactive console is terminated.\n"
     ]
    }
   ],
   "source": [
    "EPOCH_NR = 5\n",
    "BATCH_SIZE = 32\n",
    "\n",
    "run = neptune.init(project=\"common/colab-test-run\", api_token=\"ANONYMOUS\")\n",
    "\n",
    "# log params\n",
    "run[\"parameters/epoch_nr\"] = EPOCH_NR\n",
    "run[\"parameters/batch_size\"] = BATCH_SIZE\n",
    "\n",
    "# log name and append tag\n",
    "run[\"sys/name\"] = \"keras-metrics\"\n",
    "run[\"sys/tags\"].add(\"advanced\")"
   ]
  },
  {
   "cell_type": "markdown",
   "metadata": {
    "pycharm": {
     "name": "#%% md\n"
    }
   },
   "source": [
    "Now we pass our `NeptuneLogger` as keras callback and thats it."
   ]
  },
  {
   "cell_type": "code",
   "execution_count": 10,
   "metadata": {
    "pycharm": {
     "name": "#%%\n"
    }
   },
   "outputs": [
    {
     "name": "stdout",
     "output_type": "stream",
     "text": [
      "Epoch 1/5\n",
      "1875/1875 [==============================] - 15s 8ms/step - loss: 0.6382 - accuracy: 0.8359 - val_loss: 0.3453 - val_accuracy: 0.9090\n",
      "Epoch 2/5\n",
      "1875/1875 [==============================] - 14s 8ms/step - loss: 0.3442 - accuracy: 0.9027 - val_loss: 0.2788 - val_accuracy: 0.9240\n",
      "Epoch 3/5\n",
      "1875/1875 [==============================] - 14s 8ms/step - loss: 0.2899 - accuracy: 0.9175 - val_loss: 0.2432 - val_accuracy: 0.9319\n",
      "Epoch 4/5\n",
      "1875/1875 [==============================] - 15s 8ms/step - loss: 0.2558 - accuracy: 0.9273 - val_loss: 0.2198 - val_accuracy: 0.9386\n",
      "Epoch 5/5\n",
      "1875/1875 [==============================] - 15s 8ms/step - loss: 0.2307 - accuracy: 0.9345 - val_loss: 0.2007 - val_accuracy: 0.9442\n"
     ]
    }
   ],
   "source": [
    "history = model.fit(\n",
    "    x=x_train,\n",
    "    y=y_train,\n",
    "    epochs=EPOCH_NR,\n",
    "    batch_size=BATCH_SIZE,\n",
    "    validation_data=(x_test, y_test),\n",
    "    callbacks=[NeptuneLogger()],\n",
    ")"
   ]
  },
  {
   "cell_type": "markdown",
   "metadata": {
    "pycharm": {
     "name": "#%% md\n"
    }
   },
   "source": [
    "You can click on the run link above and monitor your learning curves as it is training!\n",
    "\n",
    "![advanced](https://neptune.ai/wp-content/uploads/docs-api-tour-2.png)\n",
    "\n",
    "Great thing is, you can log more things if you need to during or after the training is finished.\n",
    "\n",
    "For example, let's calculate some additional metrics on test data and log them."
   ]
  },
  {
   "cell_type": "code",
   "execution_count": 11,
   "metadata": {
    "pycharm": {
     "name": "#%%\n"
    }
   },
   "outputs": [],
   "source": [
    "import numpy as np\n",
    "\n",
    "y_test_pred = np.asarray(model.predict(x_test))\n",
    "y_test_pred_class = np.argmax(y_test_pred, axis=1)"
   ]
  },
  {
   "cell_type": "code",
   "execution_count": 12,
   "metadata": {
    "pycharm": {
     "name": "#%%\n"
    }
   },
   "outputs": [],
   "source": [
    "from sklearn.metrics import f1_score\n",
    "\n",
    "run[\"test/f1\"] = f1_score(y_test, y_test_pred_class, average=\"micro\")"
   ]
  },
  {
   "cell_type": "markdown",
   "metadata": {
    "pycharm": {
     "name": "#%% md\n"
    }
   },
   "source": [
    "We can log diagnostic charts like confusion matrix or ROC AUC curve."
   ]
  },
  {
   "cell_type": "code",
   "execution_count": 17,
   "metadata": {
    "pycharm": {
     "name": "#%%\n"
    }
   },
   "outputs": [
    {
     "data": {
      "image/png": "[encoded data removed]",
      "text/plain": [
       "<Figure size 1152x864 with 2 Axes>"
      ]
     },
     "metadata": {
      "needs_background": "light"
     },
     "output_type": "display_data"
    },
    {
     "data": {
      "image/png": "[encoded data removed]",
      "text/plain": [
       "<Figure size 1152x864 with 1 Axes>"
      ]
     },
     "metadata": {
      "needs_background": "light"
     },
     "output_type": "display_data"
    }
   ],
   "source": [
    "import matplotlib.pyplot as plt\n",
    "from scikitplot.metrics import plot_confusion_matrix, plot_roc\n",
    "\n",
    "fig, ax = plt.subplots(figsize=(16, 12))\n",
    "plot_confusion_matrix(y_test, y_test_pred_class, ax=ax)\n",
    "run[\"diagnostic_charts\"].log(neptune.types.File.as_image(fig))\n",
    "\n",
    "fig, ax = plt.subplots(figsize=(16, 12))\n",
    "plot_roc(y_test, y_test_pred, ax=ax)\n",
    "run[\"diagnostic_charts\"].log(neptune.types.File.as_image(fig))"
   ]
  },
  {
   "cell_type": "markdown",
   "metadata": {
    "pycharm": {
     "name": "#%% md\n"
    }
   },
   "source": [
    "![alt text](https://neptune.ai/wp-content/uploads/docs-api-tour-charts.png)\n",
    "\n",
    "We can also log model weights to Neptune."
   ]
  },
  {
   "cell_type": "code",
   "execution_count": 18,
   "metadata": {
    "pycharm": {
     "name": "#%%\n"
    }
   },
   "outputs": [],
   "source": [
    "model.save(\"my_model.h5\")\n",
    "run[\"model\"].upload(\"my_model.h5\")"
   ]
  },
  {
   "cell_type": "markdown",
   "metadata": {
    "pycharm": {
     "name": "#%% md\n"
    }
   },
   "source": [
    "![alt text](https://neptune.ai/wp-content/uploads/docs-api-tour-model.png)\n",
    "\n",
    "With that you can share models with your teammates easily."
   ]
  },
  {
   "cell_type": "markdown",
   "metadata": {
    "pycharm": {
     "name": "#%% md\n"
    }
   },
   "source": [
    "You can play around and execute this run with different parameters and see results and compare them.\n",
    "\n",
    "Like I've done here:\n",
    "\n",
    "![alt text](https://neptune.ai/wp-content/uploads/docs-api-tour-compare.png)\n",
    "\n",
    "A cool thing is, once things are logged to Neptune you can access them from wherever you want.\n",
    "Let me show you. \n",
    "\n"
   ]
  },
  {
   "cell_type": "markdown",
   "metadata": {
    "pycharm": {
     "name": "#%% md\n"
    }
   },
   "source": [
    "## Access data you logged programatically "
   ]
  },
  {
   "cell_type": "markdown",
   "metadata": {
    "pycharm": {
     "name": "#%% md\n"
    }
   },
   "source": [
    "## Getting the project's leaderboard"
   ]
  },
  {
   "cell_type": "markdown",
   "metadata": {
    "pycharm": {
     "name": "#%% md\n"
    }
   },
   "source": [
    "You can use the project object to get aggregate data of all your runs. Here, fetch only runs with tag 'advanced'."
   ]
  },
  {
   "cell_type": "code",
   "execution_count": 19,
   "metadata": {
    "pycharm": {
     "name": "#%%\n"
    }
   },
   "outputs": [
    {
     "name": "stdout",
     "output_type": "stream",
     "text": [
      "https://app.neptune.ai/common/colab-test-run/\n",
      "Remember to stop your project once you’ve finished logging your metadata (https://docs.neptune.ai/api-reference/project#.stop). It will be stopped automatically only when the notebook kernel/interactive console is terminated.\n"
     ]
    },
    {
     "data": {
      "text/html": [
       "<div>\n",
       "<style scoped>\n",
       "    .dataframe tbody tr th:only-of-type {\n",
       "        vertical-align: middle;\n",
       "    }\n",
       "\n",
       "    .dataframe tbody tr th {\n",
       "        vertical-align: top;\n",
       "    }\n",
       "\n",
       "    .dataframe thead th {\n",
       "        text-align: right;\n",
       "    }\n",
       "</style>\n",
       "<table border=\"1\" class=\"dataframe\">\n",
       "  <thead>\n",
       "    <tr style=\"text-align: right;\">\n",
       "      <th></th>\n",
       "      <th>sys/creation_time</th>\n",
       "      <th>sys/description</th>\n",
       "      <th>sys/failed</th>\n",
       "      <th>sys/hostname</th>\n",
       "      <th>sys/id</th>\n",
       "      <th>sys/modification_time</th>\n",
       "      <th>sys/monitoring_time</th>\n",
       "      <th>sys/name</th>\n",
       "      <th>sys/owner</th>\n",
       "      <th>sys/ping_time</th>\n",
       "      <th>...</th>\n",
       "      <th>train/accuracy</th>\n",
       "      <th>train/loss</th>\n",
       "      <th>valid/accuracy</th>\n",
       "      <th>monitoring/cpu</th>\n",
       "      <th>monitoring/gpu</th>\n",
       "      <th>monitoring/gpu_memory</th>\n",
       "      <th>monitoring/memory</th>\n",
       "      <th>monitoring/stderr</th>\n",
       "      <th>monitoring/stdout</th>\n",
       "      <th>monitoring/traceback</th>\n",
       "    </tr>\n",
       "  </thead>\n",
       "  <tbody>\n",
       "    <tr>\n",
       "      <th>0</th>\n",
       "      <td>2022-07-17 12:52:24.388000+00:00</td>\n",
       "      <td></td>\n",
       "      <td>False</td>\n",
       "      <td>Hari-SPECTRE</td>\n",
       "      <td>COL-39944</td>\n",
       "      <td>2022-07-17 12:59:17.727000+00:00</td>\n",
       "      <td>413</td>\n",
       "      <td>keras-metrics</td>\n",
       "      <td>neptuner</td>\n",
       "      <td>2022-07-17 12:59:17.727000+00:00</td>\n",
       "      <td>...</td>\n",
       "      <td>NaN</td>\n",
       "      <td>NaN</td>\n",
       "      <td>NaN</td>\n",
       "      <td>100.0</td>\n",
       "      <td>NaN</td>\n",
       "      <td>NaN</td>\n",
       "      <td>6.903717</td>\n",
       "      <td>\\n</td>\n",
       "      <td>\\n</td>\n",
       "      <td>NaN</td>\n",
       "    </tr>\n",
       "    <tr>\n",
       "      <th>1</th>\n",
       "      <td>2022-07-16 09:35:26.414000+00:00</td>\n",
       "      <td></td>\n",
       "      <td>False</td>\n",
       "      <td>c805c6a62061</td>\n",
       "      <td>COL-39941</td>\n",
       "      <td>2022-07-16 09:40:18.074000+00:00</td>\n",
       "      <td>292</td>\n",
       "      <td>keras-metrics</td>\n",
       "      <td>neptuner</td>\n",
       "      <td>2022-07-16 09:40:18.074000+00:00</td>\n",
       "      <td>...</td>\n",
       "      <td>NaN</td>\n",
       "      <td>NaN</td>\n",
       "      <td>NaN</td>\n",
       "      <td>1.6</td>\n",
       "      <td>NaN</td>\n",
       "      <td>NaN</td>\n",
       "      <td>2.172085</td>\n",
       "      <td>NaN</td>\n",
       "      <td>Shutting down background jobs, please wait a m...</td>\n",
       "      <td>NaN</td>\n",
       "    </tr>\n",
       "    <tr>\n",
       "      <th>2</th>\n",
       "      <td>2022-07-15 05:25:20.053000+00:00</td>\n",
       "      <td></td>\n",
       "      <td>False</td>\n",
       "      <td>Mac-1657862513750.local</td>\n",
       "      <td>COL-39938</td>\n",
       "      <td>2022-07-15 05:26:20.213000+00:00</td>\n",
       "      <td>60</td>\n",
       "      <td>keras-metrics</td>\n",
       "      <td>neptuner</td>\n",
       "      <td>2022-07-15 05:26:20.213000+00:00</td>\n",
       "      <td>...</td>\n",
       "      <td>NaN</td>\n",
       "      <td>NaN</td>\n",
       "      <td>NaN</td>\n",
       "      <td>67.3</td>\n",
       "      <td>NaN</td>\n",
       "      <td>NaN</td>\n",
       "      <td>3.318405</td>\n",
       "      <td>NaN</td>\n",
       "      <td>Shutting down background jobs, please wait a m...</td>\n",
       "      <td>NaN</td>\n",
       "    </tr>\n",
       "    <tr>\n",
       "      <th>3</th>\n",
       "      <td>2022-07-15 05:18:16.723000+00:00</td>\n",
       "      <td></td>\n",
       "      <td>False</td>\n",
       "      <td>fv-az139-884</td>\n",
       "      <td>COL-39936</td>\n",
       "      <td>2022-07-15 05:18:44.200000+00:00</td>\n",
       "      <td>28</td>\n",
       "      <td>keras-metrics</td>\n",
       "      <td>neptuner</td>\n",
       "      <td>2022-07-15 05:18:44.200000+00:00</td>\n",
       "      <td>...</td>\n",
       "      <td>NaN</td>\n",
       "      <td>NaN</td>\n",
       "      <td>NaN</td>\n",
       "      <td>67.9</td>\n",
       "      <td>NaN</td>\n",
       "      <td>NaN</td>\n",
       "      <td>1.519440</td>\n",
       "      <td>NaN</td>\n",
       "      <td>Shutting down background jobs, please wait a m...</td>\n",
       "      <td>NaN</td>\n",
       "    </tr>\n",
       "    <tr>\n",
       "      <th>4</th>\n",
       "      <td>2022-07-15 05:16:50.079000+00:00</td>\n",
       "      <td></td>\n",
       "      <td>False</td>\n",
       "      <td>fv-az180-324</td>\n",
       "      <td>COL-39934</td>\n",
       "      <td>2022-07-15 05:17:22.276000+00:00</td>\n",
       "      <td>32</td>\n",
       "      <td>keras-metrics</td>\n",
       "      <td>neptuner</td>\n",
       "      <td>2022-07-15 05:17:22.276000+00:00</td>\n",
       "      <td>...</td>\n",
       "      <td>NaN</td>\n",
       "      <td>NaN</td>\n",
       "      <td>NaN</td>\n",
       "      <td>20.9</td>\n",
       "      <td>NaN</td>\n",
       "      <td>NaN</td>\n",
       "      <td>1.630077</td>\n",
       "      <td>NaN</td>\n",
       "      <td>Shutting down background jobs, please wait a m...</td>\n",
       "      <td>NaN</td>\n",
       "    </tr>\n",
       "  </tbody>\n",
       "</table>\n",
       "<p>5 rows × 45 columns</p>\n",
       "</div>"
      ],
      "text/plain": [
       "                 sys/creation_time sys/description sys/failed  \\\n",
       "0 2022-07-17 12:52:24.388000+00:00                      False   \n",
       "1 2022-07-16 09:35:26.414000+00:00                      False   \n",
       "2 2022-07-15 05:25:20.053000+00:00                      False   \n",
       "3 2022-07-15 05:18:16.723000+00:00                      False   \n",
       "4 2022-07-15 05:16:50.079000+00:00                      False   \n",
       "\n",
       "              sys/hostname     sys/id            sys/modification_time  \\\n",
       "0             Hari-SPECTRE  COL-39944 2022-07-17 12:59:17.727000+00:00   \n",
       "1             c805c6a62061  COL-39941 2022-07-16 09:40:18.074000+00:00   \n",
       "2  Mac-1657862513750.local  COL-39938 2022-07-15 05:26:20.213000+00:00   \n",
       "3             fv-az139-884  COL-39936 2022-07-15 05:18:44.200000+00:00   \n",
       "4             fv-az180-324  COL-39934 2022-07-15 05:17:22.276000+00:00   \n",
       "\n",
       "   sys/monitoring_time       sys/name sys/owner  \\\n",
       "0                  413  keras-metrics  neptuner   \n",
       "1                  292  keras-metrics  neptuner   \n",
       "2                   60  keras-metrics  neptuner   \n",
       "3                   28  keras-metrics  neptuner   \n",
       "4                   32  keras-metrics  neptuner   \n",
       "\n",
       "                     sys/ping_time  ...  train/accuracy  train/loss  \\\n",
       "0 2022-07-17 12:59:17.727000+00:00  ...             NaN         NaN   \n",
       "1 2022-07-16 09:40:18.074000+00:00  ...             NaN         NaN   \n",
       "2 2022-07-15 05:26:20.213000+00:00  ...             NaN         NaN   \n",
       "3 2022-07-15 05:18:44.200000+00:00  ...             NaN         NaN   \n",
       "4 2022-07-15 05:17:22.276000+00:00  ...             NaN         NaN   \n",
       "\n",
       "  valid/accuracy monitoring/cpu  monitoring/gpu  monitoring/gpu_memory  \\\n",
       "0            NaN          100.0             NaN                    NaN   \n",
       "1            NaN            1.6             NaN                    NaN   \n",
       "2            NaN           67.3             NaN                    NaN   \n",
       "3            NaN           67.9             NaN                    NaN   \n",
       "4            NaN           20.9             NaN                    NaN   \n",
       "\n",
       "   monitoring/memory  monitoring/stderr  \\\n",
       "0           6.903717                 \\n   \n",
       "1           2.172085                NaN   \n",
       "2           3.318405                NaN   \n",
       "3           1.519440                NaN   \n",
       "4           1.630077                NaN   \n",
       "\n",
       "                                   monitoring/stdout  monitoring/traceback  \n",
       "0                                                 \\n                   NaN  \n",
       "1  Shutting down background jobs, please wait a m...                   NaN  \n",
       "2  Shutting down background jobs, please wait a m...                   NaN  \n",
       "3  Shutting down background jobs, please wait a m...                   NaN  \n",
       "4  Shutting down background jobs, please wait a m...                   NaN  \n",
       "\n",
       "[5 rows x 45 columns]"
      ]
     },
     "execution_count": 19,
     "metadata": {},
     "output_type": "execute_result"
    }
   ],
   "source": [
    "my_project = neptune.get_project(name=\"common/colab-test-run\", api_token=\"ANONYMOUS\")\n",
    "run_df = my_project.fetch_runs_table(tag=[\"advanced\"]).to_pandas()\n",
    "run_df.head()"
   ]
  },
  {
   "cell_type": "markdown",
   "metadata": {
    "pycharm": {
     "name": "#%% md\n"
    }
   },
   "source": [
    "**Stop logging** \n",
    "\n",
    "<font color=red>**Warning:**</font><br>\n",
    "Once you are done logging, you should stop tracking the run using the `stop()` method.\n",
    "This is needed only while logging from a notebook environment. While logging through a script, Neptune automatically stops tracking once the script has completed execution."
   ]
  },
  {
   "cell_type": "code",
   "execution_count": 20,
   "metadata": {
    "pycharm": {
     "name": "#%%\n"
    }
   },
   "outputs": [
    {
     "name": "stdout",
     "output_type": "stream",
     "text": [
      "Shutting down background jobs, please wait a moment...\n",
      "Done!\n",
      "Waiting for the remaining 1 operations to synchronize with Neptune. Do not kill this process.\n",
      "All 1 operations synced, thanks for waiting!\n",
      "Explore the metadata in the Neptune app:\n",
      "https://app.neptune.ai/common/colab-test-run/e/COL-39944\n"
     ]
    }
   ],
   "source": [
    "run.stop()"
   ]
  },
  {
   "cell_type": "markdown",
   "metadata": {
    "pycharm": {
     "name": "#%% md\n"
    }
   },
   "source": [
    "## Getting the run's metadata"
   ]
  },
  {
   "cell_type": "markdown",
   "metadata": {
    "pycharm": {
     "name": "#%% md\n"
    }
   },
   "source": [
    "Neptune lets you fetch whatever you logged to it directly to your notebooks and scripts."
   ]
  },
  {
   "cell_type": "code",
   "execution_count": 21,
   "metadata": {
    "pycharm": {
     "name": "#%%\n"
    }
   },
   "outputs": [
    {
     "name": "stdout",
     "output_type": "stream",
     "text": [
      "https://app.neptune.ai/common/colab-test-run/e/COL-7\n",
      "Remember to stop your run once you’ve finished logging your metadata (https://docs.neptune.ai/api-reference/run#.stop). It will be stopped automatically only when the notebook kernel/interactive console is terminated.\n"
     ]
    }
   ],
   "source": [
    "run = neptune.init(project=\"common/colab-test-run\", api_token=\"ANONYMOUS\", run=\"COL-7\")"
   ]
  },
  {
   "cell_type": "markdown",
   "metadata": {
    "pycharm": {
     "name": "#%% md\n"
    }
   },
   "source": [
    "Now that your run is *fetched* you can download the metadata."
   ]
  },
  {
   "cell_type": "code",
   "execution_count": 22,
   "metadata": {
    "pycharm": {
     "name": "#%%\n"
    }
   },
   "outputs": [
    {
     "name": "stdout",
     "output_type": "stream",
     "text": [
      "batch_size: 64.0\n",
      "last_batch_acc: 0.9563500285148621\n"
     ]
    }
   ],
   "source": [
    "batch_size = run[\"parameters/batch_size\"].fetch()\n",
    "last_batch_acc = run[\"batch/accuracy\"].fetch_last()\n",
    "print(\"batch_size: {}\".format(batch_size))\n",
    "print(\"last_batch_acc: {}\".format(last_batch_acc))"
   ]
  },
  {
   "cell_type": "markdown",
   "metadata": {
    "pycharm": {
     "name": "#%% md\n"
    }
   },
   "source": [
    "You can even download artifacts from that run if you want to:\n",
    "\n"
   ]
  },
  {
   "cell_type": "code",
   "execution_count": 23,
   "metadata": {
    "pycharm": {
     "name": "#%%\n"
    }
   },
   "outputs": [],
   "source": [
    "run[\"model\"].download()"
   ]
  },
  {
   "cell_type": "code",
   "execution_count": 24,
   "metadata": {
    "pycharm": {
     "name": "#%%\n"
    }
   },
   "outputs": [
    {
     "name": "stderr",
     "output_type": "stream",
     "text": [
      "'ls.' is not recognized as an internal or external command,\n",
      "operable program or batch file.\n"
     ]
    }
   ],
   "source": [
    "! ls./"
   ]
  },
  {
   "cell_type": "markdown",
   "metadata": {
    "colab_type": "text",
    "id": "sPLP5i70U-6S",
    "pycharm": {
     "name": "#%% md\n"
    },
    "tags": [
     "comment"
    ]
   },
   "source": [
    "## Learn more about Neptune\n",
    "\n",
    "Read about other Neptune features, create your free account and start logging!\n",
    "\n",
    "[Go to Neptune](https://neptune.ai/register)"
   ]
  }
 ],
 "metadata": {
  "colab": {
   "collapsed_sections": [],
   "name": "Neptune-API-Tour.ipynb",
   "provenance": []
  },
  "kernelspec": {
   "display_name": "Python 3.7.11 ('sanskrit')",
   "language": "python",
   "name": "python3"
  },
  "language_info": {
   "codemirror_mode": {
    "name": "ipython",
    "version": 3
   },
   "file_extension": ".py",
   "mimetype": "text/x-python",
   "name": "python",
   "nbconvert_exporter": "python",
   "pygments_lexer": "ipython3",
   "version": "3.7.11"
  },
  "vscode": {
   "interpreter": {
    "hash": "d6ca0fa7ce7bbb0a79954fd344190fa79005e3baa6147c7762ef10e98302bd8b"
   }
  }
 },
 "nbformat": 4,
 "nbformat_minor": 4
}
